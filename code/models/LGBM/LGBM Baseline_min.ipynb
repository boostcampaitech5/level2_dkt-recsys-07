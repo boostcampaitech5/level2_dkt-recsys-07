{
 "cells": [
  {
   "attachments": {},
   "cell_type": "markdown",
   "metadata": {
    "id": "yt7sDAqHhfQp"
   },
   "source": [
    "# LGBM을 활용한 베이스라인"
   ]
  },
  {
   "cell_type": "code",
   "execution_count": 2,
   "metadata": {
    "ExecuteTime": {
     "end_time": "2021-05-24T09:49:29.375544Z",
     "start_time": "2021-05-24T09:49:28.999092Z"
    },
    "id": "Uq_TJqbdhfQu"
   },
   "outputs": [],
   "source": [
    "import pandas as pd\n",
    "import os\n",
    "import random\n",
    "from math import log10 as log"
   ]
  },
  {
   "attachments": {},
   "cell_type": "markdown",
   "metadata": {
    "id": "QZlm5HSmhfQv"
   },
   "source": [
    "## 1. 데이터 로딩"
   ]
  },
  {
   "cell_type": "code",
   "execution_count": 3,
   "metadata": {
    "ExecuteTime": {
     "end_time": "2021-05-24T09:49:29.678737Z",
     "start_time": "2021-05-24T09:49:29.376581Z"
    },
    "id": "s6qgJ8MLhfQw"
   },
   "outputs": [],
   "source": [
    "data_dir = '/opt/ml/input/data/'\n",
    "csv_file_path = os.path.join(data_dir, 'train_data.csv')\n",
    "df = pd.read_csv(csv_file_path) "
   ]
  },
  {
   "attachments": {},
   "cell_type": "markdown",
   "metadata": {
    "id": "p_oCGAgEhfQw"
   },
   "source": [
    "## 2. Feature Engineering"
   ]
  },
  {
   "cell_type": "code",
   "execution_count": 22,
   "metadata": {},
   "outputs": [],
   "source": [
    "import pandas as pd\n",
    "import os\n",
    "import random\n",
    "import seaborn as sns\n",
    "import matplotlib.pyplot as plt\n",
    "import time\n",
    "from datetime import datetime\n",
    "\n",
    "def convert_time2timestamp(t):\n",
    "    timestamp = time.mktime(t.timetuple())\n",
    "    return int(timestamp)\n",
    "\n",
    "def convert_string2datetime(s: str):\n",
    "    return datetime.strptime(s, \"%Y-%m-%d %H:%M:%S\")\n",
    "\n",
    "def fe(df):\n",
    "    ## 문자열로 인식되는 Timestamp의 타입을 datetime으로 변경하기. \n",
    "    print('Timestamp feature engineering start ..',end='')\n",
    "    df[\"Timestamp\"] = df[\"Timestamp\"].apply(convert_string2datetime) # string type to datetime type\n",
    "\n",
    "\n",
    "    ## 기본적인 시간정보 추가\n",
    "    df['year'] = df['Timestamp'].dt.year\n",
    "    df['month'] = df['Timestamp'].dt.month\n",
    "    df['day'] = df['Timestamp'].dt.day\n",
    "    df['hour'] = df['Timestamp'].dt.hour                                       # 시간대로 범주 추가 가능\n",
    "\n",
    "\n",
    "    ## 요일 추가\n",
    "    df['wday'] = df['Timestamp'].dt.weekday # Monday ~ Sunday => 0 ~ 6         # 주말로 범주 추가 가능\n",
    "    \n",
    "\n",
    "    ## 문제를 다시 풀어본 횟수 feature 'retry' 추가\n",
    "    test_group = df.groupby(['userID','testId']) # 같은 시험지끼리 묶어준다.\n",
    "    # retry_check = 0\n",
    "    retry_df = pd.DataFrame()\n",
    "    for key, group in test_group:\n",
    "        if len(group[group.assessmentItemID == group.assessmentItemID.iloc[0]]) >= 2:\n",
    "            retry_df = pd.concat([retry_df,group.groupby('assessmentItemID').cumcount()])\n",
    "            # retry_check += 1\n",
    "    retry_df.columns=['retry']\n",
    "    df = pd.merge(df, retry_df, left_index=True,right_index=True, how=\"left\")\n",
    "    df['retry'] = df['retry'].fillna(0) # retry의 결측치(한 번만 푼 문제들)을 0으로 바꿔준다.\n",
    "\n",
    "    \n",
    "    ## 문제 풀이 시간 추가\n",
    "    df['time'] = df['time'] = df.groupby(['userID','testId','retry'])['Timestamp'].diff().shift(-1) # 문제 풀이 시간\n",
    "    df['time'] = df['time'].fillna(df['time'].median())                        # Null값은 중앙값으로 채우기.\n",
    "    df['time'] = df['time'].apply(lambda x:x.total_seconds())                  # 년,월,일,날짜로 되어있는 값을 시간초로 변환\n",
    "    df['time'] = df['time'].apply(lambda x:300 if x > 300 else x)              # 최댓값을 300으로 변환.\n",
    "\n",
    "\n",
    "    ## 문제 풀이 시간 그룹 추가\n",
    "    time_ranges = [-0.001,5,18,27,37,80,300]\n",
    "    df['time_class'] = pd.cut(df['time'],time_ranges,labels=[0,1,2,3,4,5])\n",
    "    \n",
    "    ## 문제 풀이 시간 그룹별 통계량 추가\n",
    "    time_class_stat = df[df['userID'].shift(1) == df['userID']].groupby(['time_class'])['answerCode'].agg(['mean','sum','std'])\n",
    "    time_class_stat.columns = ['time_class_mean', 'time_class_sum', 'time_class_std']\n",
    "    df = pd.merge(df,time_class_stat,on=['time_class'],how='left')\n",
    "\n",
    "\n",
    "    ## 전체적인 시간정보를 나타내는 Timestamp는 int형으로 변환.\n",
    "    df[\"Timestamp\"] = df[\"Timestamp\"].apply(convert_time2timestamp) # datetime to timestamp\n",
    "    print(' Done.')\n",
    "    print('TestID feature engineering start ..',end='')\n",
    "    ## 시험지의 평균 정답률, 정답 개수, 표준편차\n",
    "    correct_t = df[df['userID'].shift(1) == df['userID']].groupby(['testId'])['answerCode'].agg(['mean', 'sum','std'])\n",
    "    correct_t.columns = [\"test_ans_mean\", 'test_ans_sum','test_ans_std']\n",
    "    df = pd.merge(df, correct_t, on=['testId'], how=\"left\")\n",
    "\n",
    "    ## 시험지의 평균 풀이 시간, 표준편차\n",
    "    time_t = df.groupby(['testId'])['time'].agg(['mean', 'std'])\n",
    "    time_t.columns = [\"test_time_mean\", 'test_time_std']\n",
    "    df = pd.merge(df, time_t, on=['testId'], how=\"left\")\n",
    "\n",
    "\n",
    "    ## 시험지 대분류(test_type) 생성\n",
    "    df['test_type'] = df['testId'].apply(lambda x:int(x[2]))\n",
    "\n",
    "    ## 시험지 대분류별 정답률, 정답 개수, 표준편차\n",
    "    correct_type = df[df['userID'].shift(1) == df['userID']].groupby(['test_type'])['answerCode'].agg(['mean', 'sum','std'])\n",
    "    correct_type.columns = [\"t_type_ans_mean\", 't_type_ans_sum','t_type_ans_std']\n",
    "    df = pd.merge(df, correct_type, on=['test_type'], how=\"left\")\n",
    "\n",
    "    ## 시험지 대분류별 풀이시간, 표준편차\n",
    "    time_type = df.groupby(['test_type'])['time'].agg(['mean', 'std'])\n",
    "    time_type.columns = [\"t_type_time_mean\", 't_type_time_std']\n",
    "    df = pd.merge(df, time_type, on=['test_type'], how=\"left\")\n",
    "\n",
    "    ## 시험지 난이도\n",
    "    df['test_lvl'] = df['test_time_mean'] / df['test_ans_mean']\n",
    "    # 범주화\n",
    "    cat_num = 10\n",
    "    df['test_lvl_cat'] = pd.qcut(df['test_lvl'],cat_num,labels=[i for i in range(cat_num)])\n",
    "\n",
    "    ## 시험지 대분류별 난이도\n",
    "    # 난이도를 나타내는 척도는 임의로 풀이시간 평균 / 평균 정답률로 설정.\n",
    "    # 풀이시간이 길어지면 난이도가 높아지고, 정답률이 낮아지면 난이도가 높아진다.\n",
    "    df['test_type_lvl'] = df['t_type_time_mean'] / df['t_type_ans_mean']\n",
    "\n",
    "    # 범주화\n",
    "    type_cat_num = 3\n",
    "    df['test_type_lvl_cat'] = pd.qcut(df['test_type_lvl'],type_cat_num,labels=[i for i in range(type_cat_num)])\n",
    "\n",
    "    ## 시험지 노출 횟수\n",
    "    df['test_total_answer'] = df.groupby('testId')['answerCode'].cumcount()\n",
    "    print(' Done.')\n",
    "    print('TagID feature engineering start ..',end='')\n",
    "    ## tag의 평균 정답률, 정답 총합, 표준편차\n",
    "    correct_k = df[df['userID'].shift(1) == df['userID']].groupby(['KnowledgeTag'])['answerCode'].agg(['mean', 'sum','std'])\n",
    "    correct_k.columns = [\"tag_ans_mean\", 'tag_ans_sum','tag_ans_std']\n",
    "    df = pd.merge(df, correct_k, on=['KnowledgeTag'], how=\"left\")\n",
    "    \n",
    "    ## 태그의 평균 풀이 시간, 표준편차\n",
    "    time_k = df.groupby(['KnowledgeTag'])['time'].agg(['mean', 'std'])\n",
    "    time_k.columns = [\"tag_time_mean\", 'tag_time_std']\n",
    "    df = pd.merge(df, time_k, on=['KnowledgeTag'], how=\"left\")\n",
    "\n",
    "    ## 태그 난이도\n",
    "    df['tag_lvl'] = df['tag_time_mean'] / df['tag_ans_mean']\n",
    "\n",
    "    # 범주화\n",
    "    tag_cat_num = 10\n",
    "    df['tag_lvl_cat'] = pd.qcut(df['tag_lvl'],tag_cat_num,labels=[i for i in range(tag_cat_num)])\n",
    "\n",
    "    ## 태그 노출 횟수\n",
    "    df['tag_total_answer'] = df.groupby('KnowledgeTag')['answerCode'].cumcount()\n",
    "    print(' Done.')\n",
    "    print('UserID feature engineering start ..',end='')\n",
    "    #유저들의 문제 풀이수, 정답 수, 정답률을 시간순으로 누적해서 계산\n",
    "    df['user_ans_1'] = df[df['userID'].shift(1) == df['userID']].groupby('userID')['answerCode'].transform(lambda x:x.cumsum().shift(1))\n",
    "    df['user_total_ans'] = df.groupby('userID')['answerCode'].cumcount()\n",
    "    df['user_acc'] = df['user_ans_1']/df['user_total_ans']\n",
    "\n",
    "    df['user_test_ans_count'] = df.groupby(['userID','testId'])['answerCode'].cumcount()\n",
    "    df['user_test_ans_1'] = df[df['userID'].shift(1) == df['userID']].groupby(['userID','testId'])['answerCode'].transform(lambda x:x.cumsum().shift(1))\n",
    "    df['user_test_acc'] = df['user_test_ans_1'] / df['user_test_ans_count']\n",
    "    df['user_test_lvl_mean'] = df.groupby(['userID'])['test_lvl'].cumsum() / (df.user_total_ans + 1)\n",
    "\n",
    "    df['user_tag_ans_count'] = df.groupby(['userID','KnowledgeTag'])['answerCode'].cumcount()\n",
    "    df['user_tag_ans_1'] = df[df['userID'].shift(1) == df['userID']].groupby(['userID','KnowledgeTag'])['answerCode'].transform(lambda x:x.cumsum().shift(1))\n",
    "    df['user_tag_acc'] = df['user_tag_ans_1'] / df['user_tag_ans_count']\n",
    "    df['user_tag_lvl_mean'] = df.groupby(['userID'])['tag_lvl'].cumsum() / (df.user_total_ans + 1)\n",
    "\n",
    "    df['user_lvl'] = df.user_tag_lvl_mean + df.user_test_lvl_mean\n",
    "\n",
    "\n",
    "    df['item_ans_1'] = df[df['userID'].shift(1) == df['userID']].groupby('assessmentItemID')['answerCode'].transform(lambda x:x.cumsum().shift(1))\n",
    "    df['item_total_ans'] = df.groupby('assessmentItemID')['answerCode'].cumcount()\n",
    "    df['item_acc'] = df['item_ans_1']/df['item_total_ans']\n",
    "    \n",
    "    print(' Done.')\n",
    "    print('ItemID feature engineering start ..',end='')\n",
    "    ## item의 평균 정답률, 정답 총합, 표준편차\n",
    "    correct_a = df.groupby(['assessmentItemID'])['answerCode'].agg(['mean', 'sum','std'])\n",
    "    correct_a.columns = [\"item_ans_mean\", 'item_ans_sum','item_ans_std']\n",
    "    df = pd.merge(df, correct_a, on=['assessmentItemID'], how=\"left\")\n",
    "    \n",
    "    ## item의 평균 풀이 시간, 표준편차\n",
    "    time_a = df.groupby(['assessmentItemID'])['time'].agg(['mean', 'std'])\n",
    "    time_a.columns = [\"item_time_mean\", 'item_time_std']\n",
    "    df = pd.merge(df, time_a, on=['assessmentItemID'], how=\"left\")\n",
    "\n",
    "    # ## item 난이도\n",
    "    # df['item_lvl'] = df['item_time_mean'] / df['item_ans_mean']\n",
    "    # # 범주화\n",
    "    # item_cat_num = 10\n",
    "    # df['item_lvl_cat'] = pd.qcut(df['item_lvl'],item_cat_num,labels=[i for i in range(item_cat_num)])\n",
    "\n",
    "    ## item 노출 횟수\n",
    "    df['item_total_answer'] = df.groupby('assessmentItemID')['answerCode'].cumcount()\n",
    "    df = df.fillna(0)\n",
    "    print(' Done.')\n",
    "    return df\n",
    "\n",
    "\n",
    "def elo_fe(K,df):\n",
    "    ### ELO\n",
    "    problems = df.assessmentItemID.unique()\n",
    "    students = df.userID.unique()\n",
    "\n",
    "    # rate는 4000으로 시작.\n",
    "    problem_rate = {problem:4000 for problem in problems}\n",
    "    student_rate = {student:4000 for student in students}\n",
    "    elo_df = df[['userID', 'assessmentItemID', 'answerCode']]\n",
    "\n",
    "    # ELO Rating function\n",
    "    def win_rate(p_op, p_me): # 문제를 풀었을 때 얻는 rating 점수\n",
    "        return 1/(10**((p_op-p_me)/100)+1) \n",
    "\n",
    "    def changed_score(K, p_op, p_me, result):\n",
    "        '''\n",
    "        params\n",
    "            - K : Rating 변경 비율\n",
    "            - p_op : assessmentID (문제)\n",
    "            - p_me : UserID (사용자)\n",
    "            - result : answerCode (문제 정오답 여부)\n",
    "        variable\n",
    "            - game_percent : 풀이로부터 변경되는 Rating 값.\n",
    "            - next_op : 문제의 갱신된 Rating\n",
    "            - next_me : User의 갱신된 Rating\n",
    "        '''\n",
    "        game_pecent = win_rate(p_op, p_me)\n",
    "        next_op = p_op + K*(result - game_pecent)\n",
    "        next_me = p_me - K*(result + game_pecent)\n",
    "        return next_op, next_me\n",
    "\n",
    "    # 하나의 row는 하나의 경기인 셈.\n",
    "    for i in range(elo_df.shape[0]):\n",
    "        op, me, result = elo_df.iloc[i]\n",
    "        student_rate[op], problem_rate[me] = changed_score(K,student_rate[op], problem_rate[me], result)\n",
    "\n",
    "    problem_df = pd.DataFrame.from_dict(data=problem_rate, orient='index').rename(columns={0:'problem_rate'})\n",
    "    student_df = pd.DataFrame.from_dict(data=student_rate, orient='index').rename(columns={0:'student_rate'})\n",
    "\n",
    "    df['student_rate'] = df.userID.apply(lambda x:student_rate[x])\n",
    "    df['problem_rate'] = df.assessmentItemID.apply(lambda x:problem_rate[x])\n",
    "    df['log_student_rate'] = df.student_rate.apply(lambda x:log(x))\n",
    "\n",
    "    def rate(arr):  # 수능 등급 기준과 동일하게 0.5시그마 기준으로 1~9등급 나누기. 단, 실력이 좋으면 9등급.\n",
    "        m, std = arr.mean(), arr.std()\n",
    "        tarr = (((arr - m) / std + 1.75) * 2).astype(int)\n",
    "        return tarr.apply(lambda x : min(max(x,1), 9))\n",
    "\n",
    "    #학생별로 문제를 푼 수가 달라서 학생만 모아둔 df를 따로 관리하여 추가\n",
    "    problem_df['problem_grade'] = rate(problem_df['problem_rate'])\n",
    "    student_df['student_grade'] = rate(student_df['student_rate'])\n",
    "    df = pd.merge(df, problem_df, how='left', on='problem_rate')\n",
    "    df = pd.merge(df, student_df, how='left', on='student_rate')\n",
    "\n",
    "    return df"
   ]
  },
  {
   "cell_type": "code",
   "execution_count": 5,
   "metadata": {},
   "outputs": [
    {
     "name": "stdout",
     "output_type": "stream",
     "text": [
      "Timestamp feature engineering start .. Done.\n",
      "TestID feature engineering start .. Done.\n",
      "TagID feature engineering start .. Done.\n",
      "UserID feature engineering start .. Done.\n",
      "ItemID feature engineering start .. Done.\n"
     ]
    }
   ],
   "source": [
    "df = fe(df)"
   ]
  },
  {
   "cell_type": "code",
   "execution_count": 23,
   "metadata": {},
   "outputs": [],
   "source": [
    "edf = elo_fe(1,df)"
   ]
  },
  {
   "cell_type": "code",
   "execution_count": 25,
   "metadata": {},
   "outputs": [
    {
     "data": {
      "text/html": [
       "<div>\n",
       "<style scoped>\n",
       "    .dataframe tbody tr th:only-of-type {\n",
       "        vertical-align: middle;\n",
       "    }\n",
       "\n",
       "    .dataframe tbody tr th {\n",
       "        vertical-align: top;\n",
       "    }\n",
       "\n",
       "    .dataframe thead th {\n",
       "        text-align: right;\n",
       "    }\n",
       "</style>\n",
       "<table border=\"1\" class=\"dataframe\">\n",
       "  <thead>\n",
       "    <tr style=\"text-align: right;\">\n",
       "      <th></th>\n",
       "      <th>userID</th>\n",
       "      <th>assessmentItemID</th>\n",
       "      <th>testId</th>\n",
       "      <th>answerCode</th>\n",
       "      <th>Timestamp</th>\n",
       "      <th>KnowledgeTag</th>\n",
       "      <th>year</th>\n",
       "      <th>month</th>\n",
       "      <th>day</th>\n",
       "      <th>hour</th>\n",
       "      <th>...</th>\n",
       "      <th>item_ans_sum</th>\n",
       "      <th>item_ans_std</th>\n",
       "      <th>item_time_mean</th>\n",
       "      <th>item_time_std</th>\n",
       "      <th>item_total_answer</th>\n",
       "      <th>student_rate</th>\n",
       "      <th>problem_rate</th>\n",
       "      <th>log_student_rate</th>\n",
       "      <th>problem_grade</th>\n",
       "      <th>student_grade</th>\n",
       "    </tr>\n",
       "  </thead>\n",
       "  <tbody>\n",
       "    <tr>\n",
       "      <th>970636</th>\n",
       "      <td>1446</td>\n",
       "      <td>A080119002</td>\n",
       "      <td>A080000119</td>\n",
       "      <td>1</td>\n",
       "      <td>1606841417</td>\n",
       "      <td>1201</td>\n",
       "      <td>2020</td>\n",
       "      <td>12</td>\n",
       "      <td>1</td>\n",
       "      <td>16</td>\n",
       "      <td>...</td>\n",
       "      <td>222</td>\n",
       "      <td>0.488818</td>\n",
       "      <td>21.734247</td>\n",
       "      <td>40.133678</td>\n",
       "      <td>181</td>\n",
       "      <td>5313.499219</td>\n",
       "      <td>3768.738793</td>\n",
       "      <td>3.725381</td>\n",
       "      <td>1</td>\n",
       "      <td>9</td>\n",
       "    </tr>\n",
       "    <tr>\n",
       "      <th>653366</th>\n",
       "      <td>933</td>\n",
       "      <td>A030121003</td>\n",
       "      <td>A030000121</td>\n",
       "      <td>1</td>\n",
       "      <td>1599462877</td>\n",
       "      <td>554</td>\n",
       "      <td>2020</td>\n",
       "      <td>9</td>\n",
       "      <td>7</td>\n",
       "      <td>7</td>\n",
       "      <td>...</td>\n",
       "      <td>107</td>\n",
       "      <td>0.492478</td>\n",
       "      <td>63.538168</td>\n",
       "      <td>74.049614</td>\n",
       "      <td>73</td>\n",
       "      <td>4387.278678</td>\n",
       "      <td>3888.690886</td>\n",
       "      <td>3.642195</td>\n",
       "      <td>5</td>\n",
       "      <td>5</td>\n",
       "    </tr>\n",
       "    <tr>\n",
       "      <th>1679157</th>\n",
       "      <td>2991</td>\n",
       "      <td>A070149007</td>\n",
       "      <td>A070000149</td>\n",
       "      <td>0</td>\n",
       "      <td>1607021043</td>\n",
       "      <td>7862</td>\n",
       "      <td>2020</td>\n",
       "      <td>12</td>\n",
       "      <td>3</td>\n",
       "      <td>18</td>\n",
       "      <td>...</td>\n",
       "      <td>82</td>\n",
       "      <td>0.485532</td>\n",
       "      <td>26.830275</td>\n",
       "      <td>46.913820</td>\n",
       "      <td>151</td>\n",
       "      <td>4218.014961</td>\n",
       "      <td>3909.692984</td>\n",
       "      <td>3.625108</td>\n",
       "      <td>5</td>\n",
       "      <td>3</td>\n",
       "    </tr>\n",
       "    <tr>\n",
       "      <th>606029</th>\n",
       "      <td>861</td>\n",
       "      <td>A090009001</td>\n",
       "      <td>A090000009</td>\n",
       "      <td>1</td>\n",
       "      <td>1583226842</td>\n",
       "      <td>5141</td>\n",
       "      <td>2020</td>\n",
       "      <td>3</td>\n",
       "      <td>3</td>\n",
       "      <td>9</td>\n",
       "      <td>...</td>\n",
       "      <td>206</td>\n",
       "      <td>0.498590</td>\n",
       "      <td>32.727876</td>\n",
       "      <td>60.019722</td>\n",
       "      <td>87</td>\n",
       "      <td>4386.860083</td>\n",
       "      <td>3766.724412</td>\n",
       "      <td>3.642154</td>\n",
       "      <td>1</td>\n",
       "      <td>5</td>\n",
       "    </tr>\n",
       "    <tr>\n",
       "      <th>1045864</th>\n",
       "      <td>1576</td>\n",
       "      <td>A050098005</td>\n",
       "      <td>A050000098</td>\n",
       "      <td>1</td>\n",
       "      <td>1585124764</td>\n",
       "      <td>10330</td>\n",
       "      <td>2020</td>\n",
       "      <td>3</td>\n",
       "      <td>25</td>\n",
       "      <td>8</td>\n",
       "      <td>...</td>\n",
       "      <td>136</td>\n",
       "      <td>0.489479</td>\n",
       "      <td>30.910714</td>\n",
       "      <td>41.015594</td>\n",
       "      <td>109</td>\n",
       "      <td>4552.765838</td>\n",
       "      <td>3854.852812</td>\n",
       "      <td>3.658275</td>\n",
       "      <td>4</td>\n",
       "      <td>6</td>\n",
       "    </tr>\n",
       "    <tr>\n",
       "      <th>218741</th>\n",
       "      <td>293</td>\n",
       "      <td>A070141006</td>\n",
       "      <td>A070000141</td>\n",
       "      <td>0</td>\n",
       "      <td>1605162318</td>\n",
       "      <td>9068</td>\n",
       "      <td>2020</td>\n",
       "      <td>11</td>\n",
       "      <td>12</td>\n",
       "      <td>6</td>\n",
       "      <td>...</td>\n",
       "      <td>39</td>\n",
       "      <td>0.382085</td>\n",
       "      <td>21.855204</td>\n",
       "      <td>36.520316</td>\n",
       "      <td>30</td>\n",
       "      <td>4130.271676</td>\n",
       "      <td>3951.884376</td>\n",
       "      <td>3.615979</td>\n",
       "      <td>7</td>\n",
       "      <td>2</td>\n",
       "    </tr>\n",
       "    <tr>\n",
       "      <th>31786</th>\n",
       "      <td>43</td>\n",
       "      <td>A050103005</td>\n",
       "      <td>A050000103</td>\n",
       "      <td>1</td>\n",
       "      <td>1586577315</td>\n",
       "      <td>397</td>\n",
       "      <td>2020</td>\n",
       "      <td>4</td>\n",
       "      <td>11</td>\n",
       "      <td>3</td>\n",
       "      <td>...</td>\n",
       "      <td>133</td>\n",
       "      <td>0.491720</td>\n",
       "      <td>55.887892</td>\n",
       "      <td>59.656003</td>\n",
       "      <td>4</td>\n",
       "      <td>4441.003617</td>\n",
       "      <td>3858.528072</td>\n",
       "      <td>3.647481</td>\n",
       "      <td>4</td>\n",
       "      <td>5</td>\n",
       "    </tr>\n",
       "    <tr>\n",
       "      <th>1039622</th>\n",
       "      <td>1563</td>\n",
       "      <td>A050071004</td>\n",
       "      <td>A050000071</td>\n",
       "      <td>1</td>\n",
       "      <td>1590109725</td>\n",
       "      <td>3826</td>\n",
       "      <td>2020</td>\n",
       "      <td>5</td>\n",
       "      <td>22</td>\n",
       "      <td>1</td>\n",
       "      <td>...</td>\n",
       "      <td>124</td>\n",
       "      <td>0.498490</td>\n",
       "      <td>80.808889</td>\n",
       "      <td>82.690170</td>\n",
       "      <td>121</td>\n",
       "      <td>4891.645621</td>\n",
       "      <td>3864.285417</td>\n",
       "      <td>3.689455</td>\n",
       "      <td>4</td>\n",
       "      <td>9</td>\n",
       "    </tr>\n",
       "    <tr>\n",
       "      <th>2130186</th>\n",
       "      <td>5029</td>\n",
       "      <td>A040001001</td>\n",
       "      <td>A040000001</td>\n",
       "      <td>1</td>\n",
       "      <td>1586429429</td>\n",
       "      <td>7271</td>\n",
       "      <td>2020</td>\n",
       "      <td>4</td>\n",
       "      <td>9</td>\n",
       "      <td>10</td>\n",
       "      <td>...</td>\n",
       "      <td>257</td>\n",
       "      <td>0.171430</td>\n",
       "      <td>16.460377</td>\n",
       "      <td>36.422075</td>\n",
       "      <td>242</td>\n",
       "      <td>4111.638860</td>\n",
       "      <td>3724.055174</td>\n",
       "      <td>3.614015</td>\n",
       "      <td>1</td>\n",
       "      <td>2</td>\n",
       "    </tr>\n",
       "    <tr>\n",
       "      <th>1358833</th>\n",
       "      <td>2221</td>\n",
       "      <td>A060017004</td>\n",
       "      <td>A060000017</td>\n",
       "      <td>1</td>\n",
       "      <td>1588948585</td>\n",
       "      <td>587</td>\n",
       "      <td>2020</td>\n",
       "      <td>5</td>\n",
       "      <td>8</td>\n",
       "      <td>14</td>\n",
       "      <td>...</td>\n",
       "      <td>185</td>\n",
       "      <td>0.355389</td>\n",
       "      <td>71.635945</td>\n",
       "      <td>86.281737</td>\n",
       "      <td>154</td>\n",
       "      <td>4723.611393</td>\n",
       "      <td>3809.146407</td>\n",
       "      <td>3.674274</td>\n",
       "      <td>2</td>\n",
       "      <td>8</td>\n",
       "    </tr>\n",
       "  </tbody>\n",
       "</table>\n",
       "<p>10 rows × 67 columns</p>\n",
       "</div>"
      ],
      "text/plain": [
       "         userID assessmentItemID      testId  answerCode   Timestamp   \n",
       "970636     1446       A080119002  A080000119           1  1606841417  \\\n",
       "653366      933       A030121003  A030000121           1  1599462877   \n",
       "1679157    2991       A070149007  A070000149           0  1607021043   \n",
       "606029      861       A090009001  A090000009           1  1583226842   \n",
       "1045864    1576       A050098005  A050000098           1  1585124764   \n",
       "218741      293       A070141006  A070000141           0  1605162318   \n",
       "31786        43       A050103005  A050000103           1  1586577315   \n",
       "1039622    1563       A050071004  A050000071           1  1590109725   \n",
       "2130186    5029       A040001001  A040000001           1  1586429429   \n",
       "1358833    2221       A060017004  A060000017           1  1588948585   \n",
       "\n",
       "         KnowledgeTag  year  month  day  hour  ...  item_ans_sum   \n",
       "970636           1201  2020     12    1    16  ...           222  \\\n",
       "653366            554  2020      9    7     7  ...           107   \n",
       "1679157          7862  2020     12    3    18  ...            82   \n",
       "606029           5141  2020      3    3     9  ...           206   \n",
       "1045864         10330  2020      3   25     8  ...           136   \n",
       "218741           9068  2020     11   12     6  ...            39   \n",
       "31786             397  2020      4   11     3  ...           133   \n",
       "1039622          3826  2020      5   22     1  ...           124   \n",
       "2130186          7271  2020      4    9    10  ...           257   \n",
       "1358833           587  2020      5    8    14  ...           185   \n",
       "\n",
       "         item_ans_std  item_time_mean item_time_std  item_total_answer   \n",
       "970636       0.488818       21.734247     40.133678                181  \\\n",
       "653366       0.492478       63.538168     74.049614                 73   \n",
       "1679157      0.485532       26.830275     46.913820                151   \n",
       "606029       0.498590       32.727876     60.019722                 87   \n",
       "1045864      0.489479       30.910714     41.015594                109   \n",
       "218741       0.382085       21.855204     36.520316                 30   \n",
       "31786        0.491720       55.887892     59.656003                  4   \n",
       "1039622      0.498490       80.808889     82.690170                121   \n",
       "2130186      0.171430       16.460377     36.422075                242   \n",
       "1358833      0.355389       71.635945     86.281737                154   \n",
       "\n",
       "         student_rate  problem_rate  log_student_rate  problem_grade   \n",
       "970636    5313.499219   3768.738793          3.725381              1  \\\n",
       "653366    4387.278678   3888.690886          3.642195              5   \n",
       "1679157   4218.014961   3909.692984          3.625108              5   \n",
       "606029    4386.860083   3766.724412          3.642154              1   \n",
       "1045864   4552.765838   3854.852812          3.658275              4   \n",
       "218741    4130.271676   3951.884376          3.615979              7   \n",
       "31786     4441.003617   3858.528072          3.647481              4   \n",
       "1039622   4891.645621   3864.285417          3.689455              4   \n",
       "2130186   4111.638860   3724.055174          3.614015              1   \n",
       "1358833   4723.611393   3809.146407          3.674274              2   \n",
       "\n",
       "         student_grade  \n",
       "970636               9  \n",
       "653366               5  \n",
       "1679157              3  \n",
       "606029               5  \n",
       "1045864              6  \n",
       "218741               2  \n",
       "31786                5  \n",
       "1039622              9  \n",
       "2130186              2  \n",
       "1358833              8  \n",
       "\n",
       "[10 rows x 67 columns]"
      ]
     },
     "execution_count": 25,
     "metadata": {},
     "output_type": "execute_result"
    }
   ],
   "source": [
    "edf.sample(10)"
   ]
  },
  {
   "cell_type": "code",
   "execution_count": 26,
   "metadata": {},
   "outputs": [
    {
     "data": {
      "text/plain": [
       "Index(['userID', 'assessmentItemID', 'testId', 'answerCode', 'Timestamp',\n",
       "       'KnowledgeTag', 'year', 'month', 'day', 'hour', 'wday', 'retry', 'time',\n",
       "       'time_class', 'time_class_mean', 'time_class_sum', 'time_class_std',\n",
       "       'test_ans_mean', 'test_ans_sum', 'test_ans_std', 'test_time_mean',\n",
       "       'test_time_std', 'test_type', 't_type_ans_mean', 't_type_ans_sum',\n",
       "       't_type_ans_std', 't_type_time_mean', 't_type_time_std', 'test_lvl',\n",
       "       'test_lvl_cat', 'test_type_lvl', 'test_type_lvl_cat',\n",
       "       'test_total_answer', 'tag_ans_mean', 'tag_ans_sum', 'tag_ans_std',\n",
       "       'tag_time_mean', 'tag_time_std', 'tag_lvl', 'tag_lvl_cat',\n",
       "       'tag_total_answer', 'user_ans_1', 'user_total_ans', 'user_acc',\n",
       "       'user_test_ans_count', 'user_test_ans_1', 'user_test_acc',\n",
       "       'user_test_lvl_mean', 'user_tag_ans_count', 'user_tag_ans_1',\n",
       "       'user_tag_acc', 'user_tag_lvl_mean', 'user_lvl', 'item_ans_1',\n",
       "       'item_total_ans', 'item_acc', 'item_ans_mean', 'item_ans_sum',\n",
       "       'item_ans_std', 'item_time_mean', 'item_time_std', 'item_total_answer',\n",
       "       'student_rate', 'problem_rate', 'log_student_rate', 'problem_grade',\n",
       "       'student_grade'],\n",
       "      dtype='object')"
      ]
     },
     "execution_count": 26,
     "metadata": {},
     "output_type": "execute_result"
    }
   ],
   "source": [
    "edf.columns"
   ]
  },
  {
   "attachments": {},
   "cell_type": "markdown",
   "metadata": {
    "id": "5VZzei3DhfQy"
   },
   "source": [
    "## 3. Train/Test 데이터 셋 분리"
   ]
  },
  {
   "cell_type": "code",
   "execution_count": 27,
   "metadata": {
    "ExecuteTime": {
     "end_time": "2021-05-24T09:49:29.684739Z",
     "start_time": "2021-05-24T09:49:28.982Z"
    },
    "id": "YOPWK7ckhfQz"
   },
   "outputs": [],
   "source": [
    "# train과 test 데이터셋은 사용자 별로 묶어서 분리를 해주어야함\n",
    "random.seed(42)\n",
    "def custom_train_test_split(df, ratio=0.7, split=True):\n",
    "    \n",
    "    users = list(zip(df['userID'].value_counts().index, df['userID'].value_counts()))\n",
    "    random.shuffle(users)\n",
    "    \n",
    "    max_train_data_len = ratio*len(df)\n",
    "    sum_of_train_data = 0\n",
    "    user_ids =[]\n",
    "\n",
    "    for user_id, count in users:\n",
    "        sum_of_train_data += count\n",
    "        if max_train_data_len < sum_of_train_data:\n",
    "            break\n",
    "        user_ids.append(user_id)\n",
    "\n",
    "\n",
    "    train = df[df['userID'].isin(user_ids)]\n",
    "    test = df[df['userID'].isin(user_ids) == False]\n",
    "\n",
    "    #test데이터셋은 각 유저의 마지막 interaction만 추출\n",
    "    test = test[test['userID'] != test['userID'].shift(-1)]\n",
    "    return train, test"
   ]
  },
  {
   "cell_type": "code",
   "execution_count": 28,
   "metadata": {},
   "outputs": [
    {
     "data": {
      "text/html": [
       "<div>\n",
       "<style scoped>\n",
       "    .dataframe tbody tr th:only-of-type {\n",
       "        vertical-align: middle;\n",
       "    }\n",
       "\n",
       "    .dataframe tbody tr th {\n",
       "        vertical-align: top;\n",
       "    }\n",
       "\n",
       "    .dataframe thead th {\n",
       "        text-align: right;\n",
       "    }\n",
       "</style>\n",
       "<table border=\"1\" class=\"dataframe\">\n",
       "  <thead>\n",
       "    <tr style=\"text-align: right;\">\n",
       "      <th></th>\n",
       "      <th>assessmentItemID</th>\n",
       "      <th>testId</th>\n",
       "    </tr>\n",
       "  </thead>\n",
       "  <tbody>\n",
       "    <tr>\n",
       "      <th>0</th>\n",
       "      <td>A060001001</td>\n",
       "      <td>A060000001</td>\n",
       "    </tr>\n",
       "    <tr>\n",
       "      <th>1</th>\n",
       "      <td>A060001002</td>\n",
       "      <td>A060000001</td>\n",
       "    </tr>\n",
       "    <tr>\n",
       "      <th>2</th>\n",
       "      <td>A060001003</td>\n",
       "      <td>A060000001</td>\n",
       "    </tr>\n",
       "    <tr>\n",
       "      <th>3</th>\n",
       "      <td>A060001004</td>\n",
       "      <td>A060000001</td>\n",
       "    </tr>\n",
       "    <tr>\n",
       "      <th>4</th>\n",
       "      <td>A060001005</td>\n",
       "      <td>A060000001</td>\n",
       "    </tr>\n",
       "    <tr>\n",
       "      <th>...</th>\n",
       "      <td>...</td>\n",
       "      <td>...</td>\n",
       "    </tr>\n",
       "    <tr>\n",
       "      <th>2266581</th>\n",
       "      <td>A030071005</td>\n",
       "      <td>A030000071</td>\n",
       "    </tr>\n",
       "    <tr>\n",
       "      <th>2266582</th>\n",
       "      <td>A040165001</td>\n",
       "      <td>A040000165</td>\n",
       "    </tr>\n",
       "    <tr>\n",
       "      <th>2266583</th>\n",
       "      <td>A040165002</td>\n",
       "      <td>A040000165</td>\n",
       "    </tr>\n",
       "    <tr>\n",
       "      <th>2266584</th>\n",
       "      <td>A040165003</td>\n",
       "      <td>A040000165</td>\n",
       "    </tr>\n",
       "    <tr>\n",
       "      <th>2266585</th>\n",
       "      <td>A040165004</td>\n",
       "      <td>A040000165</td>\n",
       "    </tr>\n",
       "  </tbody>\n",
       "</table>\n",
       "<p>2266586 rows × 2 columns</p>\n",
       "</div>"
      ],
      "text/plain": [
       "        assessmentItemID      testId\n",
       "0             A060001001  A060000001\n",
       "1             A060001002  A060000001\n",
       "2             A060001003  A060000001\n",
       "3             A060001004  A060000001\n",
       "4             A060001005  A060000001\n",
       "...                  ...         ...\n",
       "2266581       A030071005  A030000071\n",
       "2266582       A040165001  A040000165\n",
       "2266583       A040165002  A040000165\n",
       "2266584       A040165003  A040000165\n",
       "2266585       A040165004  A040000165\n",
       "\n",
       "[2266586 rows x 2 columns]"
      ]
     },
     "execution_count": 28,
     "metadata": {},
     "output_type": "execute_result"
    }
   ],
   "source": [
    "df.select_dtypes(include=['object'])"
   ]
  },
  {
   "cell_type": "code",
   "execution_count": 29,
   "metadata": {
    "ExecuteTime": {
     "end_time": "2021-05-24T09:49:29.686739Z",
     "start_time": "2021-05-24T09:49:28.984Z"
    },
    "id": "i3HzdoybhfQ0"
   },
   "outputs": [],
   "source": [
    "# 유저별 분리\n",
    "train, test = custom_train_test_split(edf)\n",
    "\n",
    "# 사용할 Feature 설정\n",
    "FEATS = ['Timestamp',\n",
    "       'KnowledgeTag', 'year', 'month', 'day', 'hour', 'wday', 'retry', 'time',\n",
    "       'time_class', 'time_class_mean', 'time_class_sum', 'time_class_std',\n",
    "       'test_ans_mean', 'test_ans_sum', 'test_ans_std', 'test_time_mean',\n",
    "       'test_time_std', 'test_type', 't_type_ans_mean', 't_type_ans_sum',\n",
    "       't_type_ans_std', 't_type_time_mean', 't_type_time_std', 'test_lvl',\n",
    "       'test_lvl_cat', 'test_type_lvl', 'test_type_lvl_cat',\n",
    "       'test_total_answer', 'tag_ans_mean', 'tag_ans_sum', 'tag_ans_std',\n",
    "       'tag_time_mean', 'tag_time_std', 'tag_lvl', 'tag_lvl_cat',\n",
    "       'tag_total_answer', 'user_ans_1', 'user_total_ans', 'user_acc',\n",
    "       'user_test_ans_count', 'user_test_ans_1', 'user_test_acc',\n",
    "       'user_test_lvl_mean', 'user_tag_ans_count', 'user_tag_ans_1',\n",
    "       'user_tag_acc', 'user_tag_lvl_mean', 'user_lvl', 'item_ans_1',\n",
    "       'item_total_ans', 'item_acc', 'item_ans_mean', 'item_ans_sum',\n",
    "       'item_ans_std', 'item_time_mean', 'item_time_std', 'item_total_answer',\n",
    "       'student_rate', 'problem_rate', 'log_student_rate', 'problem_grade',\n",
    "       'student_grade']\n",
    "\n",
    "# X, y 값 분리\n",
    "y_train = train['answerCode']\n",
    "train = train.drop(['answerCode'], axis=1)\n",
    "\n",
    "y_test = test['answerCode']\n",
    "test = test.drop(['answerCode'], axis=1)"
   ]
  },
  {
   "cell_type": "code",
   "execution_count": 30,
   "metadata": {
    "ExecuteTime": {
     "end_time": "2021-05-24T09:49:29.687739Z",
     "start_time": "2021-05-24T09:49:28.985Z"
    },
    "id": "mwAF79FbhfQ1"
   },
   "outputs": [],
   "source": [
    "import lightgbm as lgb\n",
    "from sklearn.metrics import roc_auc_score\n",
    "from sklearn.metrics import accuracy_score\n",
    "from sklearn.feature_selection import f_regression, SelectKBest, chi2, f_classif\n",
    "import numpy as np"
   ]
  },
  {
   "cell_type": "code",
   "execution_count": 77,
   "metadata": {},
   "outputs": [
    {
     "name": "stderr",
     "output_type": "stream",
     "text": [
      "/opt/conda/envs/gcn/lib/python3.10/site-packages/sklearn/feature_selection/_univariate_selection.py:112: UserWarning: Features [2] are constant.\n",
      "  warnings.warn(\"Features %s are constant.\" % constant_features_idx, UserWarning)\n",
      "/opt/conda/envs/gcn/lib/python3.10/site-packages/sklearn/feature_selection/_univariate_selection.py:113: RuntimeWarning: invalid value encountered in divide\n",
      "  f = msb / msw\n",
      "/opt/conda/envs/gcn/lib/python3.10/site-packages/sklearn/feature_selection/_univariate_selection.py:112: UserWarning: Features [ 2  8  9 11] are constant.\n",
      "  warnings.warn(\"Features %s are constant.\" % constant_features_idx, UserWarning)\n",
      "/opt/conda/envs/gcn/lib/python3.10/site-packages/sklearn/feature_selection/_univariate_selection.py:113: RuntimeWarning: invalid value encountered in divide\n",
      "  f = msb / msw\n"
     ]
    },
    {
     "data": {
      "text/plain": [
       "((1586157, 30), (2007, 30))"
      ]
     },
     "execution_count": 77,
     "metadata": {},
     "output_type": "execute_result"
    }
   ],
   "source": [
    "selector = SelectKBest(score_func=f_classif, k=30)\n",
    "train_selected = selector.fit_transform(train[FEATS],y_train)\n",
    "test_selected = selector.fit_transform(test[FEATS],y_test)\n",
    "\n",
    "train_selected.shape,test_selected.shape"
   ]
  },
  {
   "cell_type": "code",
   "execution_count": 78,
   "metadata": {},
   "outputs": [
    {
     "data": {
      "text/plain": [
       "array(['Timestamp', 'month', 'time_class_std', 'test_ans_mean',\n",
       "       'test_ans_std', 'test_time_std', 'test_type', 't_type_ans_mean',\n",
       "       't_type_ans_sum', 't_type_ans_std', 't_type_time_std', 'test_lvl',\n",
       "       'test_lvl_cat', 'test_type_lvl', 'tag_ans_mean', 'tag_ans_sum',\n",
       "       'tag_ans_std', 'tag_lvl', 'tag_lvl_cat', 'user_acc',\n",
       "       'user_test_ans_1', 'user_test_acc', 'user_tag_ans_1',\n",
       "       'user_tag_acc', 'item_ans_1', 'item_acc', 'item_ans_mean',\n",
       "       'item_ans_sum', 'problem_rate', 'problem_grade'], dtype=object)"
      ]
     },
     "execution_count": 78,
     "metadata": {},
     "output_type": "execute_result"
    }
   ],
   "source": [
    "selector.get_feature_names_out()"
   ]
  },
  {
   "cell_type": "code",
   "execution_count": 79,
   "metadata": {
    "ExecuteTime": {
     "end_time": "2021-05-24T09:49:29.688736Z",
     "start_time": "2021-05-24T09:49:28.986Z"
    },
    "id": "o59GhDdVhfQ1"
   },
   "outputs": [],
   "source": [
    "lgb_train = lgb.Dataset(train_selected, y_train)\n",
    "lgb_test = lgb.Dataset(test_selected, y_test)"
   ]
  },
  {
   "attachments": {},
   "cell_type": "markdown",
   "metadata": {
    "id": "KiHss_BBhfQ2"
   },
   "source": [
    "## 4. 훈련 및 검증"
   ]
  },
  {
   "cell_type": "code",
   "execution_count": 82,
   "metadata": {},
   "outputs": [],
   "source": [
    "params = {\n",
    "        #   'bagging_freq': 1, \n",
    "        #   'verbosity': -1, \n",
    "          'num_iterations': 1000,\n",
    "          # 'feature_pre_filter': False,\n",
    "          'objective': 'binary', \n",
    "          'metric': 'binary_logloss',\n",
    "        #   'boosting': 'gbdt',\n",
    "        #   'bagging_fraction': 0.7, # 정확도 조금 올라감\n",
    "        #   'feature_fraction': 0.5, # 올리니 떨어짐\n",
    "        #   'lambda_l1': 3,\n",
    "        #   'lambda_l2': 5,\n",
    "          'learning_rate': 0.1, # 낮추니 떨어짐\n",
    "          # 'max_depth': 10, # 추가하니 떨어짐\n",
    "          # 'min_child_samples': 8,\n",
    "          # 'num_leaves': 200, # 추가하니 떨어짐\n",
    "          }\n",
    "# params={'objective':'binary'}"
   ]
  },
  {
   "cell_type": "code",
   "execution_count": 83,
   "metadata": {
    "ExecuteTime": {
     "end_time": "2021-05-24T09:49:29.689738Z",
     "start_time": "2021-05-24T09:49:28.988Z"
    },
    "id": "-6FZfjA_hfQ2"
   },
   "outputs": [
    {
     "name": "stderr",
     "output_type": "stream",
     "text": [
      "/opt/conda/envs/gcn/lib/python3.10/site-packages/lightgbm/engine.py:177: UserWarning: Found `num_iterations` in params. Will use it instead of argument\n",
      "  _log_warning(f\"Found `{alias}` in params. Will use it instead of argument\")\n",
      "/opt/conda/envs/gcn/lib/python3.10/site-packages/lightgbm/engine.py:181: UserWarning: 'early_stopping_rounds' argument is deprecated and will be removed in a future release of LightGBM. Pass 'early_stopping()' callback via 'callbacks' argument instead.\n",
      "  _log_warning(\"'early_stopping_rounds' argument is deprecated and will be removed in a future release of LightGBM. \"\n",
      "/opt/conda/envs/gcn/lib/python3.10/site-packages/lightgbm/engine.py:239: UserWarning: 'verbose_eval' argument is deprecated and will be removed in a future release of LightGBM. Pass 'log_evaluation()' callback via 'callbacks' argument instead.\n",
      "  _log_warning(\"'verbose_eval' argument is deprecated and will be removed in a future release of LightGBM. \"\n"
     ]
    },
    {
     "name": "stdout",
     "output_type": "stream",
     "text": [
      "[LightGBM] [Info] Number of positive: 1039565, number of negative: 546592\n",
      "[LightGBM] [Warning] Auto-choosing row-wise multi-threading, the overhead of testing was 0.028270 seconds.\n",
      "You can set `force_row_wise=true` to remove the overhead.\n",
      "And if memory is not enough, you can set `force_col_wise=true`.\n",
      "[LightGBM] [Info] Total Bins 4637\n",
      "[LightGBM] [Info] Number of data points in the train set: 1586157, number of used features: 30\n",
      "[LightGBM] [Info] [binary:BoostFromScore]: pavg=0.655399 -> initscore=0.642855\n",
      "[LightGBM] [Info] Start training from score 0.642855\n",
      "Training until validation scores don't improve for 100 rounds\n",
      "[100]\ttraining's binary_logloss: 0.459186\tvalid_1's binary_logloss: 0.871288\n",
      "Early stopping, best iteration is:\n",
      "[6]\ttraining's binary_logloss: 0.537104\tvalid_1's binary_logloss: 0.71908\n",
      "VALID AUC : 0.6918122639634268 ACC : 0.5112107623318386\n",
      "\n"
     ]
    }
   ],
   "source": [
    "model = lgb.train(\n",
    "    params, \n",
    "    lgb_train,\n",
    "    valid_sets=[lgb_train, lgb_test],\n",
    "    verbose_eval=100,\n",
    "    num_boost_round=500,\n",
    "    early_stopping_rounds=100\n",
    ")\n",
    "\n",
    "preds = model.predict(test_selected)\n",
    "acc = accuracy_score(y_test, np.where(preds >= 0.5, 1, 0))\n",
    "auc = roc_auc_score(y_test, preds)\n",
    "\n",
    "print(f'VALID AUC : {auc} ACC : {acc}\\n')"
   ]
  },
  {
   "cell_type": "code",
   "execution_count": 46,
   "metadata": {
    "ExecuteTime": {
     "end_time": "2021-05-24T09:49:29.690738Z",
     "start_time": "2021-05-24T09:49:28.989Z"
    },
    "id": "CKRjM0rxhfQ2"
   },
   "outputs": [
    {
     "data": {
      "image/png": "[encoded data removed]",
      "text/plain": [
       "<Figure size 640x480 with 1 Axes>"
      ]
     },
     "metadata": {},
     "output_type": "display_data"
    }
   ],
   "source": [
    "# INSTALL MATPLOTLIB IN ADVANCE\n",
    "_ = lgb.plot_importance(model)"
   ]
  },
  {
   "attachments": {},
   "cell_type": "markdown",
   "metadata": {
    "id": "8Bsff1ZVhfQ3"
   },
   "source": [
    "## 5. Inference"
   ]
  },
  {
   "cell_type": "code",
   "execution_count": 84,
   "metadata": {
    "ExecuteTime": {
     "end_time": "2021-05-24T09:49:29.691738Z",
     "start_time": "2021-05-24T09:49:28.992Z"
    },
    "id": "N6YEFm8IhfQ3"
   },
   "outputs": [
    {
     "name": "stdout",
     "output_type": "stream",
     "text": [
      "Timestamp feature engineering start ..\n",
      " Done.\n",
      "TestID feature engineering start .."
     ]
    },
    {
     "name": "stderr",
     "output_type": "stream",
     "text": [
      "/opt/conda/envs/gcn/lib/python3.10/site-packages/numpy/lib/function_base.py:4573: RuntimeWarning: invalid value encountered in subtract\n",
      "  diff_b_a = subtract(b, a)\n"
     ]
    },
    {
     "name": "stdout",
     "output_type": "stream",
     "text": [
      "TagID feature engineering start .. Done.\n",
      "UserID feature engineering start .. Done.\n",
      "ItemID feature engineering start .. Done.\n"
     ]
    }
   ],
   "source": [
    "# LOAD TESTDATA\n",
    "test_csv_file_path = os.path.join(data_dir, 'test_data.csv')\n",
    "test_df = pd.read_csv(test_csv_file_path)\n",
    "\n",
    "# FEATURE ENGINEERING\n",
    "test_df = fe(test_df)\n",
    "\n",
    "# LEAVE LAST INTERACTION ONLY\n",
    "test_df = test_df[test_df['userID'] != test_df['userID'].shift(-1)]\n",
    "\n",
    "# DROP ANSWERCODE\n",
    "test_df = test_df.drop(['answerCode'], axis=1)"
   ]
  },
  {
   "cell_type": "code",
   "execution_count": 37,
   "metadata": {},
   "outputs": [],
   "source": [
    "# with pd.option_context('display.max_rows', None, 'display.max_columns', None):\n",
    "#     print(test_df[test_df['userID'] != test_df['userID'].shift(-1)].head(2).T)"
   ]
  },
  {
   "cell_type": "code",
   "execution_count": 125,
   "metadata": {},
   "outputs": [
    {
     "data": {
      "text/plain": [
       "(744, 25)"
      ]
     },
     "execution_count": 125,
     "metadata": {},
     "output_type": "execute_result"
    }
   ],
   "source": [
    "test_df_selected = selector.transform(test_df[FEATS])\n",
    "test_df_selected.shape"
   ]
  },
  {
   "cell_type": "code",
   "execution_count": 126,
   "metadata": {
    "ExecuteTime": {
     "end_time": "2021-05-24T09:49:29.692739Z",
     "start_time": "2021-05-24T09:49:28.993Z"
    },
    "id": "XnwXJs_shfQ4"
   },
   "outputs": [
    {
     "data": {
      "text/plain": [
       "0.5163380771578968"
      ]
     },
     "execution_count": 126,
     "metadata": {},
     "output_type": "execute_result"
    }
   ],
   "source": [
    "# MAKE PREDICTION\n",
    "total_preds = model.predict(test_df_selected)\n",
    "total_preds.mean()"
   ]
  },
  {
   "cell_type": "code",
   "execution_count": 127,
   "metadata": {
    "ExecuteTime": {
     "end_time": "2021-05-24T09:49:29.694736Z",
     "start_time": "2021-05-24T09:49:28.995Z"
    },
    "id": "f8PvohzwhfQ4"
   },
   "outputs": [
    {
     "name": "stdout",
     "output_type": "stream",
     "text": [
      "writing prediction : output/20230520_145912_LGBM_0.7692_0.6966.csv\n"
     ]
    }
   ],
   "source": [
    "# SAVE OUTPUT\n",
    "output_dir = 'output/'\n",
    "now = time.localtime()\n",
    "now_date = time.strftime('%Y%m%d', now)\n",
    "now_hour = time.strftime('%X', now)\n",
    "save_time = now_date + '_' + now_hour.replace(':', '')\n",
    "\n",
    "fname = '{}_{}_{}_{}.csv'.format(save_time,\"LGBM\",auc.round(4),acc.round(4))\n",
    "write_path = os.path.join(output_dir, fname)\n",
    "if not os.path.exists(output_dir):\n",
    "    os.makedirs(output_dir)\n",
    "with open(write_path, 'w', encoding='utf8') as w:\n",
    "    print(\"writing prediction : {}\".format(write_path))\n",
    "    w.write(\"id,prediction\\n\")\n",
    "    for id, p in enumerate(total_preds):\n",
    "        w.write('{},{}\\n'.format(id,p))"
   ]
  }
 ],
 "metadata": {
  "colab": {
   "provenance": []
  },
  "kernelspec": {
   "display_name": "Python 3 (ipykernel)",
   "language": "python",
   "name": "python3"
  },
  "language_info": {
   "codemirror_mode": {
    "name": "ipython",
    "version": 3
   },
   "file_extension": ".py",
   "mimetype": "text/x-python",
   "name": "python",
   "nbconvert_exporter": "python",
   "pygments_lexer": "ipython3",
   "version": "3.10.11"
  },
  "toc": {
   "base_numbering": 1,
   "nav_menu": {},
   "number_sections": false,
   "sideBar": true,
   "skip_h1_title": false,
   "title_cell": "Table of Contents",
   "title_sidebar": "Contents",
   "toc_cell": false,
   "toc_position": {},
   "toc_section_display": true,
   "toc_window_display": true
  }
 },
 "nbformat": 4,
 "nbformat_minor": 1
}
