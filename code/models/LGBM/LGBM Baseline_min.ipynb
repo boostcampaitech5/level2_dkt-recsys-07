{
 "cells": [
  {
   "attachments": {},
   "cell_type": "markdown",
   "metadata": {
    "id": "yt7sDAqHhfQp"
   },
   "source": [
    "# LGBM을 활용한 베이스라인"
   ]
  },
  {
   "cell_type": "code",
   "execution_count": 2,
   "metadata": {
    "ExecuteTime": {
     "end_time": "2021-05-24T09:49:29.375544Z",
     "start_time": "2021-05-24T09:49:28.999092Z"
    },
    "id": "Uq_TJqbdhfQu"
   },
   "outputs": [],
   "source": [
    "import pandas as pd\n",
    "import os\n",
    "import random\n",
    "from math import log10 as log\n",
    "import seaborn as sns\n",
    "import matplotlib.pyplot as plt\n",
    "import time\n",
    "from datetime import datetime\n",
    "import lightgbm as lgb\n",
    "from sklearn.metrics import roc_auc_score\n",
    "from sklearn.metrics import accuracy_score\n",
    "from sklearn.feature_selection import SelectKBest, chi2, f_classif\n",
    "from sklearn.decomposition import PCA\n",
    "import numpy as np"
   ]
  },
  {
   "attachments": {},
   "cell_type": "markdown",
   "metadata": {
    "id": "QZlm5HSmhfQv"
   },
   "source": [
    "## 1. 데이터 로딩"
   ]
  },
  {
   "cell_type": "code",
   "execution_count": 3,
   "metadata": {
    "ExecuteTime": {
     "end_time": "2021-05-24T09:49:29.678737Z",
     "start_time": "2021-05-24T09:49:29.376581Z"
    },
    "id": "s6qgJ8MLhfQw"
   },
   "outputs": [],
   "source": [
    "data_dir = '/opt/ml/input/data/'\n",
    "df = pd.read_csv(os.path.join(data_dir, 'train_data.csv')) "
   ]
  },
  {
   "attachments": {},
   "cell_type": "markdown",
   "metadata": {
    "id": "p_oCGAgEhfQw"
   },
   "source": [
    "## 2. Feature Engineering"
   ]
  },
  {
   "cell_type": "code",
   "execution_count": 3,
   "metadata": {},
   "outputs": [],
   "source": [
    "def convert_time2timestamp(t):\n",
    "    timestamp = time.mktime(t.timetuple())\n",
    "    return int(timestamp)\n",
    "\n",
    "def convert_string2datetime(s: str):\n",
    "    return datetime.strptime(s, \"%Y-%m-%d %H:%M:%S\")\n",
    "\n",
    "def fe(df):\n",
    "    ## 문자열로 인식되는 Timestamp의 타입을 datetime으로 변경하기. \n",
    "    print('Timestamp feature engineering start ..',end='')\n",
    "    df[\"Timestamp\"] = df[\"Timestamp\"].apply(convert_string2datetime) # string type to datetime type\n",
    "\n",
    "\n",
    "    ## 기본적인 시간정보 추가\n",
    "    df['year'] = df['Timestamp'].dt.year\n",
    "    df['month'] = df['Timestamp'].dt.month\n",
    "    df['day'] = df['Timestamp'].dt.day\n",
    "    df['hour'] = df['Timestamp'].dt.hour                                       # 시간대로 범주 추가 가능\n",
    "\n",
    "\n",
    "    ## 요일 추가\n",
    "    df['wday'] = df['Timestamp'].dt.weekday # Monday ~ Sunday => 0 ~ 6         # 주말로 범주 추가 가능\n",
    "    \n",
    "\n",
    "    ## 문제를 다시 풀어본 횟수 feature 'retry' 추가\n",
    "    test_group = df.groupby(['userID','testId']) # 같은 시험지끼리 묶어준다.\n",
    "    # retry_check = 0\n",
    "    retry_df = pd.DataFrame()\n",
    "    for key, group in test_group:\n",
    "        if len(group[group.assessmentItemID == group.assessmentItemID.iloc[0]]) >= 2:\n",
    "            retry_df = pd.concat([retry_df,group.groupby('assessmentItemID').cumcount()])\n",
    "            # retry_check += 1\n",
    "    retry_df.columns=['retry']\n",
    "    df = pd.merge(df, retry_df, left_index=True,right_index=True, how=\"left\")\n",
    "    df['retry'] = df['retry'].fillna(0) # retry의 결측치(한 번만 푼 문제들)을 0으로 바꿔준다.\n",
    "\n",
    "    \n",
    "    ## 문제 풀이 시간 추가\n",
    "    df['time'] = df['time'] = df.groupby(['userID','testId','retry'])['Timestamp'].diff().shift(-1) # 문제 풀이 시간\n",
    "    df['time'] = df['time'].fillna(df['time'].median())                        # Null값은 중앙값으로 채우기.\n",
    "    df['time'] = df['time'].apply(lambda x:x.total_seconds())                  # 년,월,일,날짜로 되어있는 값을 시간초로 변환\n",
    "    df['time'] = df['time'].apply(lambda x:300 if x > 300 else x)              # 최댓값을 300으로 변환.\n",
    "\n",
    "\n",
    "    ## 문제 풀이 시간 그룹 추가\n",
    "    time_ranges = [-0.001,5,18,27,37,80,300]\n",
    "    df['time_class'] = pd.cut(df['time'],time_ranges,labels=[0,1,2,3,4,5])\n",
    "    \n",
    "    ## 문제 풀이 시간 그룹별 통계량 추가\n",
    "    time_class_stat = df[df['userID'].shift(1) == df['userID']].groupby(['time_class'])['answerCode'].agg(['mean','sum','std'])\n",
    "    time_class_stat.columns = ['time_class_mean', 'time_class_sum', 'time_class_std']\n",
    "    df = pd.merge(df,time_class_stat,on=['time_class'],how='left')\n",
    "\n",
    "\n",
    "    ## 전체적인 시간정보를 나타내는 Timestamp는 int형으로 변환.\n",
    "    df[\"Timestamp\"] = df[\"Timestamp\"].apply(convert_time2timestamp) # datetime to timestamp\n",
    "    print(' Done.')\n",
    "    print('TestID feature engineering start ..',end='')\n",
    "    ## 시험지의 평균 정답률, 정답 개수, 표준편차\n",
    "    correct_t = df[df['userID'].shift(1) == df['userID']].groupby(['testId'])['answerCode'].agg(['mean', 'sum','std'])\n",
    "    correct_t.columns = [\"test_ans_mean\", 'test_ans_sum','test_ans_std']\n",
    "    df = pd.merge(df, correct_t, on=['testId'], how=\"left\")\n",
    "\n",
    "    ## 시험지의 평균 풀이 시간, 표준편차\n",
    "    time_t = df.groupby(['testId'])['time'].agg(['mean', 'std'])\n",
    "    time_t.columns = [\"test_time_mean\", 'test_time_std']\n",
    "    df = pd.merge(df, time_t, on=['testId'], how=\"left\")\n",
    "\n",
    "\n",
    "    ## 시험지 대분류(test_type) 생성\n",
    "    df['test_type'] = df['testId'].apply(lambda x:int(x[2]))\n",
    "\n",
    "    ## 시험지 대분류별 정답률, 정답 개수, 표준편차\n",
    "    correct_type = df[df['userID'].shift(1) == df['userID']].groupby(['test_type'])['answerCode'].agg(['mean', 'sum','std'])\n",
    "    correct_type.columns = [\"t_type_ans_mean\", 't_type_ans_sum','t_type_ans_std']\n",
    "    df = pd.merge(df, correct_type, on=['test_type'], how=\"left\")\n",
    "\n",
    "    ## 시험지 대분류별 풀이시간, 표준편차\n",
    "    time_type = df.groupby(['test_type'])['time'].agg(['mean', 'std'])\n",
    "    time_type.columns = [\"t_type_time_mean\", 't_type_time_std']\n",
    "    df = pd.merge(df, time_type, on=['test_type'], how=\"left\")\n",
    "\n",
    "    ## 시험지 난이도\n",
    "    df['test_lvl'] = df['test_time_mean'] / df['test_ans_mean']\n",
    "    # 범주화\n",
    "    cat_num = 10\n",
    "    df['test_lvl_cat'] = pd.qcut(df['test_lvl'],cat_num,labels=[i for i in range(cat_num)])\n",
    "\n",
    "    ## 시험지 대분류별 난이도\n",
    "    # 난이도를 나타내는 척도는 임의로 풀이시간 평균 / 평균 정답률로 설정.\n",
    "    # 풀이시간이 길어지면 난이도가 높아지고, 정답률이 낮아지면 난이도가 높아진다.\n",
    "    df['test_type_lvl'] = df['t_type_time_mean'] / df['t_type_ans_mean']\n",
    "\n",
    "    # 범주화\n",
    "    type_cat_num = 3\n",
    "    df['test_type_lvl_cat'] = pd.qcut(df['test_type_lvl'],type_cat_num,labels=[i for i in range(type_cat_num)])\n",
    "\n",
    "    ## 시험지 노출 횟수\n",
    "    df['test_total_answer'] = df.groupby('testId')['answerCode'].cumcount()\n",
    "    print(' Done.')\n",
    "    print('TagID feature engineering start ..',end='')\n",
    "    ## tag의 평균 정답률, 정답 총합, 표준편차\n",
    "    correct_k = df[df['userID'].shift(1) == df['userID']].groupby(['KnowledgeTag'])['answerCode'].agg(['mean', 'sum','std'])\n",
    "    correct_k.columns = [\"tag_ans_mean\", 'tag_ans_sum','tag_ans_std']\n",
    "    df = pd.merge(df, correct_k, on=['KnowledgeTag'], how=\"left\")\n",
    "    \n",
    "    ## 태그의 평균 풀이 시간, 표준편차\n",
    "    time_k = df.groupby(['KnowledgeTag'])['time'].agg(['mean', 'std'])\n",
    "    time_k.columns = [\"tag_time_mean\", 'tag_time_std']\n",
    "    df = pd.merge(df, time_k, on=['KnowledgeTag'], how=\"left\")\n",
    "\n",
    "    ## 태그 난이도\n",
    "    df['tag_lvl'] = df['tag_time_mean'] / df['tag_ans_mean']\n",
    "\n",
    "    # 범주화\n",
    "    tag_cat_num = 10\n",
    "    df['tag_lvl_cat'] = pd.qcut(df['tag_lvl'],tag_cat_num,labels=[i for i in range(tag_cat_num)])\n",
    "\n",
    "    ## 태그 노출 횟수\n",
    "    df['tag_total_answer'] = df.groupby('KnowledgeTag')['answerCode'].cumcount()\n",
    "    print(' Done.')\n",
    "    print('UserID feature engineering start ..',end='')\n",
    "    #유저들의 문제 풀이수, 정답 수, 정답률을 시간순으로 누적해서 계산\n",
    "    df['user_ans_1'] = df[df['userID'].shift(1) == df['userID']].groupby('userID')['answerCode'].transform(lambda x:x.cumsum().shift(1))\n",
    "    df['user_total_ans'] = df.groupby('userID')['answerCode'].cumcount()\n",
    "    df['user_acc'] = df['user_ans_1']/df['user_total_ans']\n",
    "\n",
    "    df['user_test_ans_count'] = df.groupby(['userID','testId'])['answerCode'].cumcount()\n",
    "    df['user_test_ans_1'] = df[df['userID'].shift(1) == df['userID']].groupby(['userID','testId'])['answerCode'].transform(lambda x:x.cumsum().shift(1))\n",
    "    df['user_test_acc'] = df['user_test_ans_1'] / df['user_test_ans_count']\n",
    "    df['user_test_lvl_mean'] = df.groupby(['userID'])['test_lvl'].cumsum() / (df.user_total_ans + 1)\n",
    "\n",
    "    df['user_tag_ans_count'] = df.groupby(['userID','KnowledgeTag'])['answerCode'].cumcount()\n",
    "    df['user_tag_ans_1'] = df[df['userID'].shift(1) == df['userID']].groupby(['userID','KnowledgeTag'])['answerCode'].transform(lambda x:x.cumsum().shift(1))\n",
    "    df['user_tag_acc'] = df['user_tag_ans_1'] / df['user_tag_ans_count']\n",
    "    df['user_tag_lvl_mean'] = df.groupby(['userID'])['tag_lvl'].cumsum() / (df.user_total_ans + 1)\n",
    "\n",
    "    # df['user_lvl'] = df.user_tag_lvl_mean + df.user_test_lvl_mean\n",
    "\n",
    "\n",
    "    df['item_ans_1'] = df[df['userID'].shift(1) == df['userID']].groupby('assessmentItemID')['answerCode'].transform(lambda x:x.cumsum().shift(1))\n",
    "    df['item_total_ans'] = df.groupby('assessmentItemID')['answerCode'].cumcount()\n",
    "    df['item_acc'] = df['item_ans_1']/df['item_total_ans']\n",
    "    \n",
    "    print(' Done.')\n",
    "    print('ItemID feature engineering start ..',end='')\n",
    "    ## item의 평균 정답률, 정답 총합, 표준편차\n",
    "    correct_a = df.groupby(['assessmentItemID'])['answerCode'].agg(['mean', 'sum','std'])\n",
    "    correct_a.columns = [\"item_ans_mean\", 'item_ans_sum','item_ans_std']\n",
    "    df = pd.merge(df, correct_a, on=['assessmentItemID'], how=\"left\")\n",
    "    \n",
    "    ## item의 평균 풀이 시간, 표준편차\n",
    "    time_a = df.groupby(['assessmentItemID'])['time'].agg(['mean', 'std'])\n",
    "    time_a.columns = [\"item_time_mean\", 'item_time_std']\n",
    "    df = pd.merge(df, time_a, on=['assessmentItemID'], how=\"left\")\n",
    "\n",
    "    # ## item 난이도\n",
    "    # df['item_lvl'] = df['item_time_mean'] / df['item_ans_mean']\n",
    "    # # 범주화\n",
    "    # item_cat_num = 10\n",
    "    # df['item_lvl_cat'] = pd.qcut(df['item_lvl'],item_cat_num,labels=[i for i in range(item_cat_num)])\n",
    "\n",
    "    df = df.fillna(0)\n",
    "    print(' Done.')\n",
    "    return df\n",
    "\n",
    "\n",
    "def elo_fe(K,df):\n",
    "    ### ELO\n",
    "    problems = df.assessmentItemID.unique()\n",
    "    students = df.userID.unique()\n",
    "\n",
    "    # rate는 4000으로 시작.\n",
    "    problem_rate = {problem:4000 for problem in problems}\n",
    "    student_rate = {student:4000 for student in students}\n",
    "    elo_df = df[['userID', 'assessmentItemID', 'answerCode']]\n",
    "\n",
    "    # ELO Rating function\n",
    "    def win_rate(p_op, p_me): # 문제를 풀었을 때 얻는 rating 점수\n",
    "        return 1/(10**((p_op-p_me)/100)+1) \n",
    "\n",
    "    def changed_score(K, p_op, p_me, result):\n",
    "        '''\n",
    "        params\n",
    "            - K : Rating 변경 비율\n",
    "            - p_op : assessmentID (문제)\n",
    "            - p_me : UserID (사용자)\n",
    "            - result : answerCode (문제 정오답 여부)\n",
    "        variable\n",
    "            - game_percent : 풀이로부터 변경되는 Rating 값.\n",
    "            - next_op : 문제의 갱신된 Rating\n",
    "            - next_me : User의 갱신된 Rating\n",
    "        '''\n",
    "        game_pecent = win_rate(p_op, p_me)\n",
    "        next_op = p_op + K*(result - game_pecent)\n",
    "        next_me = p_me - K*(result + game_pecent)\n",
    "        return next_op, next_me\n",
    "\n",
    "    # 하나의 row는 하나의 경기인 셈.\n",
    "    for i in range(elo_df.shape[0]):\n",
    "        op, me, result = elo_df.iloc[i]\n",
    "        student_rate[op], problem_rate[me] = changed_score(K,student_rate[op], problem_rate[me], result)\n",
    "\n",
    "    problem_df = pd.DataFrame.from_dict(data=problem_rate, orient='index').rename(columns={0:'problem_rate'})\n",
    "    student_df = pd.DataFrame.from_dict(data=student_rate, orient='index').rename(columns={0:'student_rate'})\n",
    "\n",
    "    df['student_rate'] = df.userID.apply(lambda x:student_rate[x])\n",
    "    df['problem_rate'] = df.assessmentItemID.apply(lambda x:problem_rate[x])\n",
    "    df['log_student_rate'] = df.student_rate.apply(lambda x:log(x))\n",
    "\n",
    "    def rate(arr):  # 수능 등급 기준과 동일하게 0.5시그마 기준으로 1~9등급 나누기. 단, 실력이 좋으면 9등급.\n",
    "        m, std = arr.mean(), arr.std()\n",
    "        tarr = (((arr - m) / std + 1.75) * 2).astype(int)\n",
    "        return tarr.apply(lambda x : min(max(x,1), 9))\n",
    "\n",
    "    #학생별로 문제를 푼 수가 달라서 학생만 모아둔 df를 따로 관리하여 추가\n",
    "    problem_df['problem_grade'] = rate(problem_df['problem_rate'])\n",
    "    student_df['student_grade'] = rate(student_df['student_rate'])\n",
    "    df = pd.merge(df, problem_df, how='left', on='problem_rate')\n",
    "    df = pd.merge(df, student_df, how='left', on='student_rate')\n",
    "\n",
    "    return df"
   ]
  },
  {
   "cell_type": "code",
   "execution_count": 16,
   "metadata": {},
   "outputs": [
    {
     "name": "stdout",
     "output_type": "stream",
     "text": [
      "Timestamp feature engineering start .. Done.\n",
      "TestID feature engineering start .. Done.\n",
      "TagID feature engineering start .. Done.\n",
      "UserID feature engineering start .. Done.\n",
      "ItemID feature engineering start .. Done.\n"
     ]
    }
   ],
   "source": [
    "df = fe(df)"
   ]
  },
  {
   "cell_type": "code",
   "execution_count": 17,
   "metadata": {},
   "outputs": [],
   "source": [
    "edf = elo_fe(1,df)"
   ]
  },
  {
   "cell_type": "code",
   "execution_count": 9,
   "metadata": {},
   "outputs": [],
   "source": [
    "df = pd.read_csv(os.path.join(data_dir, 'train_fe_elo.csv'))"
   ]
  },
  {
   "cell_type": "code",
   "execution_count": 13,
   "metadata": {},
   "outputs": [
    {
     "data": {
      "text/html": [
       "<div>\n",
       "<style scoped>\n",
       "    .dataframe tbody tr th:only-of-type {\n",
       "        vertical-align: middle;\n",
       "    }\n",
       "\n",
       "    .dataframe tbody tr th {\n",
       "        vertical-align: top;\n",
       "    }\n",
       "\n",
       "    .dataframe thead th {\n",
       "        text-align: right;\n",
       "    }\n",
       "</style>\n",
       "<table border=\"1\" class=\"dataframe\">\n",
       "  <thead>\n",
       "    <tr style=\"text-align: right;\">\n",
       "      <th></th>\n",
       "      <th>userID</th>\n",
       "      <th>assessmentItemID</th>\n",
       "      <th>testId</th>\n",
       "      <th>answerCode</th>\n",
       "      <th>Timestamp</th>\n",
       "      <th>KnowledgeTag</th>\n",
       "      <th>year</th>\n",
       "      <th>month</th>\n",
       "      <th>day</th>\n",
       "      <th>hour</th>\n",
       "      <th>...</th>\n",
       "      <th>item_ans_sum</th>\n",
       "      <th>item_ans_std</th>\n",
       "      <th>item_time_mean</th>\n",
       "      <th>item_time_std</th>\n",
       "      <th>item_total_answer</th>\n",
       "      <th>student_rate</th>\n",
       "      <th>problem_rate</th>\n",
       "      <th>log_student_rate</th>\n",
       "      <th>problem_grade</th>\n",
       "      <th>student_grade</th>\n",
       "    </tr>\n",
       "  </thead>\n",
       "  <tbody>\n",
       "    <tr>\n",
       "      <th>0</th>\n",
       "      <td>0</td>\n",
       "      <td>A060001001</td>\n",
       "      <td>A060000001</td>\n",
       "      <td>1</td>\n",
       "      <td>1585009031</td>\n",
       "      <td>7224</td>\n",
       "      <td>2020</td>\n",
       "      <td>3</td>\n",
       "      <td>24</td>\n",
       "      <td>0</td>\n",
       "      <td>...</td>\n",
       "      <td>246</td>\n",
       "      <td>0.125727</td>\n",
       "      <td>13.008000</td>\n",
       "      <td>27.987948</td>\n",
       "      <td>0</td>\n",
       "      <td>4393.741434</td>\n",
       "      <td>3737.125432</td>\n",
       "      <td>3.642834</td>\n",
       "      <td>1</td>\n",
       "      <td>5</td>\n",
       "    </tr>\n",
       "    <tr>\n",
       "      <th>745</th>\n",
       "      <td>1</td>\n",
       "      <td>A040013001</td>\n",
       "      <td>A040000013</td>\n",
       "      <td>1</td>\n",
       "      <td>1578300043</td>\n",
       "      <td>2048</td>\n",
       "      <td>2020</td>\n",
       "      <td>1</td>\n",
       "      <td>6</td>\n",
       "      <td>8</td>\n",
       "      <td>...</td>\n",
       "      <td>240</td>\n",
       "      <td>0.400668</td>\n",
       "      <td>58.520000</td>\n",
       "      <td>63.720199</td>\n",
       "      <td>0</td>\n",
       "      <td>4732.033763</td>\n",
       "      <td>3741.029589</td>\n",
       "      <td>3.675048</td>\n",
       "      <td>1</td>\n",
       "      <td>8</td>\n",
       "    </tr>\n",
       "    <tr>\n",
       "      <th>1678</th>\n",
       "      <td>2</td>\n",
       "      <td>A030050001</td>\n",
       "      <td>A030000050</td>\n",
       "      <td>1</td>\n",
       "      <td>1578654173</td>\n",
       "      <td>407</td>\n",
       "      <td>2020</td>\n",
       "      <td>1</td>\n",
       "      <td>10</td>\n",
       "      <td>11</td>\n",
       "      <td>...</td>\n",
       "      <td>249</td>\n",
       "      <td>0.376260</td>\n",
       "      <td>54.460000</td>\n",
       "      <td>71.209487</td>\n",
       "      <td>0</td>\n",
       "      <td>4065.362243</td>\n",
       "      <td>3741.904872</td>\n",
       "      <td>3.609099</td>\n",
       "      <td>1</td>\n",
       "      <td>2</td>\n",
       "    </tr>\n",
       "    <tr>\n",
       "      <th>1954</th>\n",
       "      <td>5</td>\n",
       "      <td>A080001001</td>\n",
       "      <td>A080000001</td>\n",
       "      <td>1</td>\n",
       "      <td>1581537620</td>\n",
       "      <td>4604</td>\n",
       "      <td>2020</td>\n",
       "      <td>2</td>\n",
       "      <td>12</td>\n",
       "      <td>20</td>\n",
       "      <td>...</td>\n",
       "      <td>189</td>\n",
       "      <td>0.499868</td>\n",
       "      <td>27.680000</td>\n",
       "      <td>48.701305</td>\n",
       "      <td>0</td>\n",
       "      <td>4608.893218</td>\n",
       "      <td>3777.463345</td>\n",
       "      <td>3.663597</td>\n",
       "      <td>2</td>\n",
       "      <td>7</td>\n",
       "    </tr>\n",
       "    <tr>\n",
       "      <th>2787</th>\n",
       "      <td>6</td>\n",
       "      <td>A030016001</td>\n",
       "      <td>A030000016</td>\n",
       "      <td>1</td>\n",
       "      <td>1583750908</td>\n",
       "      <td>7307</td>\n",
       "      <td>2020</td>\n",
       "      <td>3</td>\n",
       "      <td>9</td>\n",
       "      <td>10</td>\n",
       "      <td>...</td>\n",
       "      <td>277</td>\n",
       "      <td>0.266506</td>\n",
       "      <td>44.740000</td>\n",
       "      <td>57.281845</td>\n",
       "      <td>0</td>\n",
       "      <td>3577.562625</td>\n",
       "      <td>3706.386798</td>\n",
       "      <td>3.553587</td>\n",
       "      <td>1</td>\n",
       "      <td>1</td>\n",
       "    </tr>\n",
       "    <tr>\n",
       "      <th>...</th>\n",
       "      <td>...</td>\n",
       "      <td>...</td>\n",
       "      <td>...</td>\n",
       "      <td>...</td>\n",
       "      <td>...</td>\n",
       "      <td>...</td>\n",
       "      <td>...</td>\n",
       "      <td>...</td>\n",
       "      <td>...</td>\n",
       "      <td>...</td>\n",
       "      <td>...</td>\n",
       "      <td>...</td>\n",
       "      <td>...</td>\n",
       "      <td>...</td>\n",
       "      <td>...</td>\n",
       "      <td>...</td>\n",
       "      <td>...</td>\n",
       "      <td>...</td>\n",
       "      <td>...</td>\n",
       "      <td>...</td>\n",
       "      <td>...</td>\n",
       "    </tr>\n",
       "    <tr>\n",
       "      <th>2526615</th>\n",
       "      <td>7395</td>\n",
       "      <td>A030076001</td>\n",
       "      <td>A030000076</td>\n",
       "      <td>0</td>\n",
       "      <td>1594362974</td>\n",
       "      <td>475</td>\n",
       "      <td>2020</td>\n",
       "      <td>7</td>\n",
       "      <td>10</td>\n",
       "      <td>6</td>\n",
       "      <td>...</td>\n",
       "      <td>94</td>\n",
       "      <td>0.464624</td>\n",
       "      <td>29.196667</td>\n",
       "      <td>46.223154</td>\n",
       "      <td>299</td>\n",
       "      <td>4005.391162</td>\n",
       "      <td>3892.850524</td>\n",
       "      <td>3.602645</td>\n",
       "      <td>5</td>\n",
       "      <td>1</td>\n",
       "    </tr>\n",
       "    <tr>\n",
       "      <th>2526639</th>\n",
       "      <td>7404</td>\n",
       "      <td>A020124001</td>\n",
       "      <td>A020000124</td>\n",
       "      <td>1</td>\n",
       "      <td>1601376244</td>\n",
       "      <td>8018</td>\n",
       "      <td>2020</td>\n",
       "      <td>9</td>\n",
       "      <td>29</td>\n",
       "      <td>10</td>\n",
       "      <td>...</td>\n",
       "      <td>257</td>\n",
       "      <td>0.350998</td>\n",
       "      <td>53.910000</td>\n",
       "      <td>60.245389</td>\n",
       "      <td>299</td>\n",
       "      <td>4005.883882</td>\n",
       "      <td>3739.601319</td>\n",
       "      <td>3.602698</td>\n",
       "      <td>1</td>\n",
       "      <td>1</td>\n",
       "    </tr>\n",
       "    <tr>\n",
       "      <th>2526654</th>\n",
       "      <td>7416</td>\n",
       "      <td>A080002001</td>\n",
       "      <td>A080000002</td>\n",
       "      <td>1</td>\n",
       "      <td>1578621974</td>\n",
       "      <td>4605</td>\n",
       "      <td>2020</td>\n",
       "      <td>1</td>\n",
       "      <td>10</td>\n",
       "      <td>2</td>\n",
       "      <td>...</td>\n",
       "      <td>210</td>\n",
       "      <td>0.367341</td>\n",
       "      <td>62.640000</td>\n",
       "      <td>72.165294</td>\n",
       "      <td>249</td>\n",
       "      <td>4005.570867</td>\n",
       "      <td>3776.391251</td>\n",
       "      <td>3.602664</td>\n",
       "      <td>2</td>\n",
       "      <td>1</td>\n",
       "    </tr>\n",
       "    <tr>\n",
       "      <th>2526669</th>\n",
       "      <td>7417</td>\n",
       "      <td>A010093001</td>\n",
       "      <td>A010000093</td>\n",
       "      <td>0</td>\n",
       "      <td>1596013587</td>\n",
       "      <td>6557</td>\n",
       "      <td>2020</td>\n",
       "      <td>7</td>\n",
       "      <td>29</td>\n",
       "      <td>9</td>\n",
       "      <td>...</td>\n",
       "      <td>217</td>\n",
       "      <td>0.486081</td>\n",
       "      <td>51.734286</td>\n",
       "      <td>59.563077</td>\n",
       "      <td>349</td>\n",
       "      <td>4000.865841</td>\n",
       "      <td>3777.761011</td>\n",
       "      <td>3.602154</td>\n",
       "      <td>2</td>\n",
       "      <td>1</td>\n",
       "    </tr>\n",
       "    <tr>\n",
       "      <th>2526684</th>\n",
       "      <td>7439</td>\n",
       "      <td>A040003001</td>\n",
       "      <td>A040000003</td>\n",
       "      <td>1</td>\n",
       "      <td>1578991096</td>\n",
       "      <td>7268</td>\n",
       "      <td>2020</td>\n",
       "      <td>1</td>\n",
       "      <td>14</td>\n",
       "      <td>8</td>\n",
       "      <td>...</td>\n",
       "      <td>276</td>\n",
       "      <td>0.271746</td>\n",
       "      <td>17.360000</td>\n",
       "      <td>36.471968</td>\n",
       "      <td>299</td>\n",
       "      <td>4009.850254</td>\n",
       "      <td>3705.152889</td>\n",
       "      <td>3.603128</td>\n",
       "      <td>1</td>\n",
       "      <td>1</td>\n",
       "    </tr>\n",
       "  </tbody>\n",
       "</table>\n",
       "<p>7442 rows × 67 columns</p>\n",
       "</div>"
      ],
      "text/plain": [
       "         userID assessmentItemID      testId  answerCode   Timestamp   \n",
       "0             0       A060001001  A060000001           1  1585009031  \\\n",
       "745           1       A040013001  A040000013           1  1578300043   \n",
       "1678          2       A030050001  A030000050           1  1578654173   \n",
       "1954          5       A080001001  A080000001           1  1581537620   \n",
       "2787          6       A030016001  A030000016           1  1583750908   \n",
       "...         ...              ...         ...         ...         ...   \n",
       "2526615    7395       A030076001  A030000076           0  1594362974   \n",
       "2526639    7404       A020124001  A020000124           1  1601376244   \n",
       "2526654    7416       A080002001  A080000002           1  1578621974   \n",
       "2526669    7417       A010093001  A010000093           0  1596013587   \n",
       "2526684    7439       A040003001  A040000003           1  1578991096   \n",
       "\n",
       "         KnowledgeTag  year  month  day  hour  ...  item_ans_sum   \n",
       "0                7224  2020      3   24     0  ...           246  \\\n",
       "745              2048  2020      1    6     8  ...           240   \n",
       "1678              407  2020      1   10    11  ...           249   \n",
       "1954             4604  2020      2   12    20  ...           189   \n",
       "2787             7307  2020      3    9    10  ...           277   \n",
       "...               ...   ...    ...  ...   ...  ...           ...   \n",
       "2526615           475  2020      7   10     6  ...            94   \n",
       "2526639          8018  2020      9   29    10  ...           257   \n",
       "2526654          4605  2020      1   10     2  ...           210   \n",
       "2526669          6557  2020      7   29     9  ...           217   \n",
       "2526684          7268  2020      1   14     8  ...           276   \n",
       "\n",
       "         item_ans_std  item_time_mean  item_time_std  item_total_answer   \n",
       "0            0.125727       13.008000      27.987948                  0  \\\n",
       "745          0.400668       58.520000      63.720199                  0   \n",
       "1678         0.376260       54.460000      71.209487                  0   \n",
       "1954         0.499868       27.680000      48.701305                  0   \n",
       "2787         0.266506       44.740000      57.281845                  0   \n",
       "...               ...             ...            ...                ...   \n",
       "2526615      0.464624       29.196667      46.223154                299   \n",
       "2526639      0.350998       53.910000      60.245389                299   \n",
       "2526654      0.367341       62.640000      72.165294                249   \n",
       "2526669      0.486081       51.734286      59.563077                349   \n",
       "2526684      0.271746       17.360000      36.471968                299   \n",
       "\n",
       "         student_rate  problem_rate  log_student_rate  problem_grade   \n",
       "0         4393.741434   3737.125432          3.642834              1  \\\n",
       "745       4732.033763   3741.029589          3.675048              1   \n",
       "1678      4065.362243   3741.904872          3.609099              1   \n",
       "1954      4608.893218   3777.463345          3.663597              2   \n",
       "2787      3577.562625   3706.386798          3.553587              1   \n",
       "...               ...           ...               ...            ...   \n",
       "2526615   4005.391162   3892.850524          3.602645              5   \n",
       "2526639   4005.883882   3739.601319          3.602698              1   \n",
       "2526654   4005.570867   3776.391251          3.602664              2   \n",
       "2526669   4000.865841   3777.761011          3.602154              2   \n",
       "2526684   4009.850254   3705.152889          3.603128              1   \n",
       "\n",
       "         student_grade  \n",
       "0                    5  \n",
       "745                  8  \n",
       "1678                 2  \n",
       "1954                 7  \n",
       "2787                 1  \n",
       "...                ...  \n",
       "2526615              1  \n",
       "2526639              1  \n",
       "2526654              1  \n",
       "2526669              1  \n",
       "2526684              1  \n",
       "\n",
       "[7442 rows x 67 columns]"
      ]
     },
     "execution_count": 13,
     "metadata": {},
     "output_type": "execute_result"
    }
   ],
   "source": [
    "df[df.userID != df.userID.shift(1)]"
   ]
  },
  {
   "cell_type": "code",
   "execution_count": 64,
   "metadata": {},
   "outputs": [],
   "source": [
    "df.drop(['item_total_answer'],inplace=True,axis=1)"
   ]
  },
  {
   "cell_type": "code",
   "execution_count": 65,
   "metadata": {},
   "outputs": [
    {
     "data": {
      "text/plain": [
       "Index(['userID', 'assessmentItemID', 'testId', 'answerCode', 'Timestamp',\n",
       "       'KnowledgeTag', 'year', 'month', 'day', 'hour', 'wday', 'retry', 'time',\n",
       "       'time_class', 'time_class_mean', 'time_class_sum', 'time_class_std',\n",
       "       'test_ans_mean', 'test_ans_sum', 'test_ans_std', 'test_time_mean',\n",
       "       'test_time_std', 'test_type', 't_type_ans_mean', 't_type_ans_sum',\n",
       "       't_type_ans_std', 't_type_time_mean', 't_type_time_std', 'test_lvl',\n",
       "       'test_lvl_cat', 'test_type_lvl', 'test_type_lvl_cat',\n",
       "       'test_total_answer', 'tag_ans_mean', 'tag_ans_sum', 'tag_ans_std',\n",
       "       'tag_time_mean', 'tag_time_std', 'tag_lvl', 'tag_lvl_cat',\n",
       "       'tag_total_answer', 'user_ans_1', 'user_total_ans', 'user_acc',\n",
       "       'user_test_ans_count', 'user_test_ans_1', 'user_test_acc',\n",
       "       'user_test_lvl_mean', 'user_tag_ans_count', 'user_tag_ans_1',\n",
       "       'user_tag_acc', 'user_tag_lvl_mean', 'user_lvl', 'item_ans_1',\n",
       "       'item_total_ans', 'item_acc', 'item_ans_mean', 'item_ans_sum',\n",
       "       'item_ans_std', 'item_time_mean', 'item_time_std', 'student_rate',\n",
       "       'problem_rate', 'log_student_rate', 'problem_grade', 'student_grade'],\n",
       "      dtype='object')"
      ]
     },
     "execution_count": 65,
     "metadata": {},
     "output_type": "execute_result"
    }
   ],
   "source": [
    "df.columns"
   ]
  },
  {
   "attachments": {},
   "cell_type": "markdown",
   "metadata": {
    "id": "5VZzei3DhfQy"
   },
   "source": [
    "## 3. Train/Test 데이터 셋 분리"
   ]
  },
  {
   "cell_type": "code",
   "execution_count": 66,
   "metadata": {
    "ExecuteTime": {
     "end_time": "2021-05-24T09:49:29.684739Z",
     "start_time": "2021-05-24T09:49:28.982Z"
    },
    "id": "YOPWK7ckhfQz"
   },
   "outputs": [],
   "source": [
    "# train과 test 데이터셋은 사용자 별로 묶어서 분리를 해주어야함\n",
    "random.seed(42)\n",
    "def custom_train_test_split(df, ratio=0.7, split=True):\n",
    "    \n",
    "    users = list(zip(df['userID'].value_counts().index, df['userID'].value_counts()))\n",
    "    random.shuffle(users)\n",
    "    \n",
    "    max_train_data_len = ratio*len(df)\n",
    "    sum_of_train_data = 0\n",
    "    user_ids =[]\n",
    "\n",
    "    for user_id, count in users:\n",
    "        sum_of_train_data += count\n",
    "        if max_train_data_len < sum_of_train_data:\n",
    "            break\n",
    "        user_ids.append(user_id)\n",
    "\n",
    "\n",
    "    train = df[df['userID'].isin(user_ids)]\n",
    "    test = df[df['userID'].isin(user_ids) == False]\n",
    "\n",
    "    #test데이터셋은 각 유저의 마지막 interaction만 추출\n",
    "    test = test[test['userID'] != test['userID'].shift(-1)]\n",
    "    return train, test"
   ]
  },
  {
   "cell_type": "code",
   "execution_count": 67,
   "metadata": {},
   "outputs": [
    {
     "data": {
      "text/html": [
       "<div>\n",
       "<style scoped>\n",
       "    .dataframe tbody tr th:only-of-type {\n",
       "        vertical-align: middle;\n",
       "    }\n",
       "\n",
       "    .dataframe tbody tr th {\n",
       "        vertical-align: top;\n",
       "    }\n",
       "\n",
       "    .dataframe thead th {\n",
       "        text-align: right;\n",
       "    }\n",
       "</style>\n",
       "<table border=\"1\" class=\"dataframe\">\n",
       "  <thead>\n",
       "    <tr style=\"text-align: right;\">\n",
       "      <th></th>\n",
       "      <th>assessmentItemID</th>\n",
       "      <th>testId</th>\n",
       "    </tr>\n",
       "  </thead>\n",
       "  <tbody>\n",
       "    <tr>\n",
       "      <th>0</th>\n",
       "      <td>A060001001</td>\n",
       "      <td>A060000001</td>\n",
       "    </tr>\n",
       "    <tr>\n",
       "      <th>1</th>\n",
       "      <td>A060001002</td>\n",
       "      <td>A060000001</td>\n",
       "    </tr>\n",
       "    <tr>\n",
       "      <th>2</th>\n",
       "      <td>A060001003</td>\n",
       "      <td>A060000001</td>\n",
       "    </tr>\n",
       "    <tr>\n",
       "      <th>3</th>\n",
       "      <td>A060001004</td>\n",
       "      <td>A060000001</td>\n",
       "    </tr>\n",
       "    <tr>\n",
       "      <th>4</th>\n",
       "      <td>A060001005</td>\n",
       "      <td>A060000001</td>\n",
       "    </tr>\n",
       "    <tr>\n",
       "      <th>...</th>\n",
       "      <td>...</td>\n",
       "      <td>...</td>\n",
       "    </tr>\n",
       "    <tr>\n",
       "      <th>2266581</th>\n",
       "      <td>A030071005</td>\n",
       "      <td>A030000071</td>\n",
       "    </tr>\n",
       "    <tr>\n",
       "      <th>2266582</th>\n",
       "      <td>A040165001</td>\n",
       "      <td>A040000165</td>\n",
       "    </tr>\n",
       "    <tr>\n",
       "      <th>2266583</th>\n",
       "      <td>A040165002</td>\n",
       "      <td>A040000165</td>\n",
       "    </tr>\n",
       "    <tr>\n",
       "      <th>2266584</th>\n",
       "      <td>A040165003</td>\n",
       "      <td>A040000165</td>\n",
       "    </tr>\n",
       "    <tr>\n",
       "      <th>2266585</th>\n",
       "      <td>A040165004</td>\n",
       "      <td>A040000165</td>\n",
       "    </tr>\n",
       "  </tbody>\n",
       "</table>\n",
       "<p>2266586 rows × 2 columns</p>\n",
       "</div>"
      ],
      "text/plain": [
       "        assessmentItemID      testId\n",
       "0             A060001001  A060000001\n",
       "1             A060001002  A060000001\n",
       "2             A060001003  A060000001\n",
       "3             A060001004  A060000001\n",
       "4             A060001005  A060000001\n",
       "...                  ...         ...\n",
       "2266581       A030071005  A030000071\n",
       "2266582       A040165001  A040000165\n",
       "2266583       A040165002  A040000165\n",
       "2266584       A040165003  A040000165\n",
       "2266585       A040165004  A040000165\n",
       "\n",
       "[2266586 rows x 2 columns]"
      ]
     },
     "execution_count": 67,
     "metadata": {},
     "output_type": "execute_result"
    }
   ],
   "source": [
    "df.select_dtypes(include=['object'])"
   ]
  },
  {
   "cell_type": "code",
   "execution_count": 71,
   "metadata": {
    "ExecuteTime": {
     "end_time": "2021-05-24T09:49:29.686739Z",
     "start_time": "2021-05-24T09:49:28.984Z"
    },
    "id": "i3HzdoybhfQ0"
   },
   "outputs": [],
   "source": [
    "# 유저별 분리\n",
    "train, test = custom_train_test_split(df)\n",
    "\n",
    "# 사용할 Feature 설정\n",
    "FEATS = ['Timestamp',\n",
    "       'KnowledgeTag', 'year', 'month', 'day', 'hour', 'wday', 'retry', 'time',\n",
    "       'time_class', 'time_class_mean', 'time_class_sum', 'time_class_std',\n",
    "       'test_ans_mean', 'test_ans_sum', 'test_ans_std', 'test_time_mean',\n",
    "       'test_time_std', 'test_type', 't_type_ans_mean', 't_type_ans_sum',\n",
    "       't_type_ans_std', 't_type_time_mean', 't_type_time_std', 'test_lvl',\n",
    "       'test_lvl_cat', 'test_type_lvl', 'test_type_lvl_cat',\n",
    "       'test_total_answer', 'tag_ans_mean', 'tag_ans_sum', 'tag_ans_std',\n",
    "       'tag_time_mean', 'tag_time_std', 'tag_lvl', 'tag_lvl_cat',\n",
    "       'tag_total_answer', 'user_ans_1', 'user_total_ans', 'user_acc',\n",
    "       'user_test_ans_count', 'user_test_ans_1', 'user_test_acc',\n",
    "       'user_test_lvl_mean', 'user_tag_ans_count', 'user_tag_ans_1',\n",
    "       'user_tag_acc', 'user_tag_lvl_mean', 'item_ans_1',\n",
    "       'item_total_ans', 'item_acc', 'item_ans_mean', 'item_ans_sum',\n",
    "       'item_ans_std', 'item_time_mean', 'item_time_std',\n",
    "       'student_rate', 'problem_rate', 'log_student_rate', 'problem_grade',\n",
    "       'student_grade']\n",
    "\n",
    "# X, y 값 분리\n",
    "y_train = train['answerCode']\n",
    "train = train.drop(['answerCode'], axis=1)\n",
    "\n",
    "y_test = test['answerCode']\n",
    "test = test.drop(['answerCode'], axis=1)"
   ]
  },
  {
   "cell_type": "code",
   "execution_count": 73,
   "metadata": {},
   "outputs": [
    {
     "name": "stderr",
     "output_type": "stream",
     "text": [
      "/opt/conda/envs/gcn/lib/python3.10/site-packages/sklearn/feature_selection/_univariate_selection.py:112: UserWarning: Features [ 2  8  9 11] are constant.\n",
      "  warnings.warn(\"Features %s are constant.\" % constant_features_idx, UserWarning)\n",
      "/opt/conda/envs/gcn/lib/python3.10/site-packages/sklearn/feature_selection/_univariate_selection.py:113: RuntimeWarning: invalid value encountered in divide\n",
      "  f = msb / msw\n"
     ]
    },
    {
     "data": {
      "text/plain": [
       "((1586264, 30), (1964, 30))"
      ]
     },
     "execution_count": 73,
     "metadata": {},
     "output_type": "execute_result"
    }
   ],
   "source": [
    "selector = SelectKBest(score_func=f_classif, k=30)\n",
    "train_selected = selector.fit_transform(train[FEATS],y_train)\n",
    "test_selected = selector.fit_transform(test[FEATS],y_test)\n",
    "\n",
    "train_selected.shape,test_selected.shape"
   ]
  },
  {
   "cell_type": "code",
   "execution_count": 115,
   "metadata": {},
   "outputs": [
    {
     "data": {
      "text/plain": [
       "((1586157, 20), (2007, 20))"
      ]
     },
     "execution_count": 115,
     "metadata": {},
     "output_type": "execute_result"
    }
   ],
   "source": [
    "transformer = PCA(n_components=20)\n",
    "train_pca = transformer.fit_transform(train[FEATS])\n",
    "test_pca = transformer.fit_transform(test[FEATS])\n",
    "train_pca.shape, test_pca.shape"
   ]
  },
  {
   "cell_type": "code",
   "execution_count": 74,
   "metadata": {},
   "outputs": [
    {
     "data": {
      "text/plain": [
       "array(['month', 'time_class_std', 'test_ans_mean', 'test_ans_std',\n",
       "       'test_time_std', 'test_type', 't_type_ans_mean', 't_type_ans_sum',\n",
       "       't_type_ans_std', 't_type_time_std', 'test_lvl', 'test_lvl_cat',\n",
       "       'test_type_lvl', 'tag_ans_mean', 'tag_ans_sum', 'tag_ans_std',\n",
       "       'tag_lvl', 'tag_lvl_cat', 'user_acc', 'user_test_ans_1',\n",
       "       'user_test_acc', 'user_tag_ans_1', 'user_tag_acc', 'item_ans_1',\n",
       "       'item_acc', 'item_ans_mean', 'item_ans_sum', 'item_time_std',\n",
       "       'problem_rate', 'problem_grade'], dtype=object)"
      ]
     },
     "execution_count": 74,
     "metadata": {},
     "output_type": "execute_result"
    }
   ],
   "source": [
    "selector.get_feature_names_out()"
   ]
  },
  {
   "cell_type": "code",
   "execution_count": 36,
   "metadata": {},
   "outputs": [
    {
     "data": {
      "text/plain": [
       "array(['Timestamp', 'month', 'time_class_std', 'test_ans_mean',\n",
       "       'test_ans_std', 'test_time_std', 'test_type', 't_type_ans_mean',\n",
       "       't_type_ans_sum', 't_type_ans_std', 't_type_time_mean',\n",
       "       't_type_time_std', 'test_lvl', 'test_lvl_cat', 'test_type_lvl',\n",
       "       'test_type_lvl_cat', 'tag_ans_mean', 'tag_ans_sum', 'tag_ans_std',\n",
       "       'tag_time_std', 'tag_lvl', 'tag_lvl_cat', 'user_acc',\n",
       "       'user_test_ans_1', 'user_test_acc', 'user_tag_ans_1',\n",
       "       'user_tag_acc', 'item_ans_1', 'item_acc', 'item_ans_mean',\n",
       "       'item_ans_sum', 'item_ans_std', 'item_time_std', 'problem_rate',\n",
       "       'problem_grade'], dtype=object)"
      ]
     },
     "execution_count": 36,
     "metadata": {},
     "output_type": "execute_result"
    }
   ],
   "source": [
    "selector.get_feature_names_out()"
   ]
  },
  {
   "cell_type": "code",
   "execution_count": 76,
   "metadata": {
    "ExecuteTime": {
     "end_time": "2021-05-24T09:49:29.688736Z",
     "start_time": "2021-05-24T09:49:28.986Z"
    },
    "id": "o59GhDdVhfQ1"
   },
   "outputs": [],
   "source": [
    "lgb_train = lgb.Dataset(train_selected, y_train)\n",
    "lgb_test = lgb.Dataset(test_selected, y_test)"
   ]
  },
  {
   "cell_type": "code",
   "execution_count": 75,
   "metadata": {},
   "outputs": [],
   "source": [
    "# lgb_train = lgb.Dataset(train_pca, y_train)\n",
    "# lgb_test = lgb.Dataset(test_pca, y_test)"
   ]
  },
  {
   "attachments": {},
   "cell_type": "markdown",
   "metadata": {
    "id": "KiHss_BBhfQ2"
   },
   "source": [
    "## 4. 훈련 및 검증"
   ]
  },
  {
   "cell_type": "code",
   "execution_count": 77,
   "metadata": {},
   "outputs": [],
   "source": [
    "params = {\n",
    "        #   'bagging_freq': 1, \n",
    "        #   'verbosity': -1, \n",
    "          'num_iterations': 1000,\n",
    "          # 'feature_pre_filter': False,\n",
    "          'objective': 'binary', \n",
    "          'metric': 'binary_logloss',\n",
    "        #   'boosting': 'gbdt',\n",
    "        #   'bagging_fraction': 0.7, # 정확도 조금 올라감\n",
    "        #   'feature_fraction': 0.5, # 올리니 떨어짐\n",
    "        #   'lambda_l1': 3,\n",
    "        #   'lambda_l2': 5,\n",
    "          'learning_rate': 0.1, # 낮추니 떨어짐\n",
    "          # 'max_depth': 10, # 추가하니 떨어짐\n",
    "          # 'min_child_samples': 8,\n",
    "          # 'num_leaves': 200, # 추가하니 떨어짐\n",
    "          }\n",
    "# params={'objective':'binary'}"
   ]
  },
  {
   "cell_type": "code",
   "execution_count": 78,
   "metadata": {
    "ExecuteTime": {
     "end_time": "2021-05-24T09:49:29.689738Z",
     "start_time": "2021-05-24T09:49:28.988Z"
    },
    "id": "-6FZfjA_hfQ2"
   },
   "outputs": [
    {
     "name": "stderr",
     "output_type": "stream",
     "text": [
      "/opt/conda/envs/gcn/lib/python3.10/site-packages/lightgbm/engine.py:177: UserWarning: Found `num_iterations` in params. Will use it instead of argument\n",
      "  _log_warning(f\"Found `{alias}` in params. Will use it instead of argument\")\n",
      "/opt/conda/envs/gcn/lib/python3.10/site-packages/lightgbm/engine.py:181: UserWarning: 'early_stopping_rounds' argument is deprecated and will be removed in a future release of LightGBM. Pass 'early_stopping()' callback via 'callbacks' argument instead.\n",
      "  _log_warning(\"'early_stopping_rounds' argument is deprecated and will be removed in a future release of LightGBM. \"\n",
      "/opt/conda/envs/gcn/lib/python3.10/site-packages/lightgbm/engine.py:239: UserWarning: 'verbose_eval' argument is deprecated and will be removed in a future release of LightGBM. Pass 'log_evaluation()' callback via 'callbacks' argument instead.\n",
      "  _log_warning(\"'verbose_eval' argument is deprecated and will be removed in a future release of LightGBM. \"\n"
     ]
    },
    {
     "name": "stdout",
     "output_type": "stream",
     "text": [
      "[LightGBM] [Info] Number of positive: 1040633, number of negative: 545631\n",
      "[LightGBM] [Warning] Auto-choosing row-wise multi-threading, the overhead of testing was 0.024205 seconds.\n",
      "You can set `force_row_wise=true` to remove the overhead.\n",
      "And if memory is not enough, you can set `force_col_wise=true`.\n",
      "[LightGBM] [Info] Total Bins 4164\n",
      "[LightGBM] [Info] Number of data points in the train set: 1586264, number of used features: 30\n",
      "[LightGBM] [Info] [binary:BoostFromScore]: pavg=0.656028 -> initscore=0.645642\n",
      "[LightGBM] [Info] Start training from score 0.645642\n",
      "Training until validation scores don't improve for 100 rounds\n",
      "[100]\ttraining's binary_logloss: 0.454843\tvalid_1's binary_logloss: 0.668461\n",
      "Early stopping, best iteration is:\n",
      "[40]\ttraining's binary_logloss: 0.460844\tvalid_1's binary_logloss: 0.647533\n",
      "VALID AUC : 0.7815034061106332 ACC : 0.6522403258655805\n",
      "\n"
     ]
    }
   ],
   "source": [
    "model = lgb.train(\n",
    "    params, \n",
    "    lgb_train,\n",
    "    valid_sets=[lgb_train, lgb_test],\n",
    "    verbose_eval=100,\n",
    "    num_boost_round=500,\n",
    "    early_stopping_rounds=100\n",
    ")\n",
    "\n",
    "preds = model.predict(test_selected)\n",
    "acc = accuracy_score(y_test, np.where(preds >= 0.5, 1, 0))\n",
    "auc = roc_auc_score(y_test, preds)\n",
    "\n",
    "print(f'VALID AUC : {auc} ACC : {acc}\\n')"
   ]
  },
  {
   "cell_type": "code",
   "execution_count": null,
   "metadata": {
    "ExecuteTime": {
     "end_time": "2021-05-24T09:49:29.690738Z",
     "start_time": "2021-05-24T09:49:28.989Z"
    },
    "id": "CKRjM0rxhfQ2"
   },
   "outputs": [
    {
     "data": {
      "image/png": "[encoded data removed]",
      "text/plain": [
       "<Figure size 640x480 with 1 Axes>"
      ]
     },
     "metadata": {},
     "output_type": "display_data"
    }
   ],
   "source": [
    "# INSTALL MATPLOTLIB IN ADVANCE\n",
    "_ = lgb.plot_importance(model)"
   ]
  },
  {
   "attachments": {},
   "cell_type": "markdown",
   "metadata": {
    "id": "8Bsff1ZVhfQ3"
   },
   "source": [
    "## 5. Inference"
   ]
  },
  {
   "cell_type": "code",
   "execution_count": 90,
   "metadata": {
    "ExecuteTime": {
     "end_time": "2021-05-24T09:49:29.691738Z",
     "start_time": "2021-05-24T09:49:28.992Z"
    },
    "id": "N6YEFm8IhfQ3"
   },
   "outputs": [
    {
     "name": "stdout",
     "output_type": "stream",
     "text": [
      "Timestamp feature engineering start .. Done.\n",
      "TestID feature engineering start .."
     ]
    },
    {
     "name": "stderr",
     "output_type": "stream",
     "text": [
      "/opt/conda/envs/gcn/lib/python3.10/site-packages/numpy/lib/function_base.py:4573: RuntimeWarning: invalid value encountered in subtract\n",
      "  diff_b_a = subtract(b, a)\n"
     ]
    },
    {
     "name": "stdout",
     "output_type": "stream",
     "text": [
      " Done.\n",
      "TagID feature engineering start .. Done.\n",
      "UserID feature engineering start .. Done.\n",
      "ItemID feature engineering start .. Done.\n"
     ]
    }
   ],
   "source": [
    "# LOAD TESTDATA\n",
    "test_csv_file_path = os.path.join(data_dir, 'test_data.csv')\n",
    "test_df = pd.read_csv(test_csv_file_path)\n",
    "\n",
    "# FEATURE ENGINEERING\n",
    "test_df = fe(test_df)\n",
    "test_df = elo_fe(1,test_df)\n",
    "\n",
    "# LEAVE LAST INTERACTION ONLY\n",
    "test_df = test_df[test_df['userID'] != test_df['userID'].shift(-1)]\n",
    "\n",
    "# DROP ANSWERCODE\n",
    "test_df = test_df.drop(['answerCode'], axis=1)"
   ]
  },
  {
   "cell_type": "code",
   "execution_count": 37,
   "metadata": {},
   "outputs": [],
   "source": [
    "# with pd.option_context('display.max_rows', None, 'display.max_columns', None):\n",
    "#     print(test_df[test_df['userID'] != test_df['userID'].shift(-1)].head(2).T)"
   ]
  },
  {
   "cell_type": "code",
   "execution_count": 91,
   "metadata": {},
   "outputs": [
    {
     "data": {
      "text/plain": [
       "(744, 50)"
      ]
     },
     "execution_count": 91,
     "metadata": {},
     "output_type": "execute_result"
    }
   ],
   "source": [
    "test_df_selected = selector.transform(test_df[FEATS])\n",
    "test_df_selected.shape"
   ]
  },
  {
   "cell_type": "code",
   "execution_count": 92,
   "metadata": {
    "ExecuteTime": {
     "end_time": "2021-05-24T09:49:29.692739Z",
     "start_time": "2021-05-24T09:49:28.993Z"
    },
    "id": "XnwXJs_shfQ4"
   },
   "outputs": [
    {
     "data": {
      "text/plain": [
       "0.672499749122249"
      ]
     },
     "execution_count": 92,
     "metadata": {},
     "output_type": "execute_result"
    }
   ],
   "source": [
    "# MAKE PREDICTION\n",
    "total_preds = model.predict(test_df_selected)\n",
    "total_preds.mean()"
   ]
  },
  {
   "cell_type": "code",
   "execution_count": 127,
   "metadata": {
    "ExecuteTime": {
     "end_time": "2021-05-24T09:49:29.694736Z",
     "start_time": "2021-05-24T09:49:28.995Z"
    },
    "id": "f8PvohzwhfQ4"
   },
   "outputs": [
    {
     "name": "stdout",
     "output_type": "stream",
     "text": [
      "writing prediction : output/20230520_145912_LGBM_0.7692_0.6966.csv\n"
     ]
    }
   ],
   "source": [
    "# SAVE OUTPUT\n",
    "output_dir = 'output/'\n",
    "now = time.localtime()\n",
    "now_date = time.strftime('%Y%m%d', now)\n",
    "now_hour = time.strftime('%X', now)\n",
    "save_time = now_date + '_' + now_hour.replace(':', '')\n",
    "\n",
    "fname = '{}_{}_{}_{}.csv'.format(save_time,\"LGBM\",auc.round(4),acc.round(4))\n",
    "write_path = os.path.join(output_dir, fname)\n",
    "if not os.path.exists(output_dir):\n",
    "    os.makedirs(output_dir)\n",
    "with open(write_path, 'w', encoding='utf8') as w:\n",
    "    print(\"writing prediction : {}\".format(write_path))\n",
    "    w.write(\"id,prediction\\n\")\n",
    "    for id, p in enumerate(total_preds):\n",
    "        w.write('{},{}\\n'.format(id,p))"
   ]
  }
 ],
 "metadata": {
  "colab": {
   "provenance": []
  },
  "kernelspec": {
   "display_name": "Python 3 (ipykernel)",
   "language": "python",
   "name": "python3"
  },
  "language_info": {
   "codemirror_mode": {
    "name": "ipython",
    "version": 3
   },
   "file_extension": ".py",
   "mimetype": "text/x-python",
   "name": "python",
   "nbconvert_exporter": "python",
   "pygments_lexer": "ipython3",
   "version": "3.10.11"
  },
  "toc": {
   "base_numbering": 1,
   "nav_menu": {},
   "number_sections": false,
   "sideBar": true,
   "skip_h1_title": false,
   "title_cell": "Table of Contents",
   "title_sidebar": "Contents",
   "toc_cell": false,
   "toc_position": {},
   "toc_section_display": true,
   "toc_window_display": true
  }
 },
 "nbformat": 4,
 "nbformat_minor": 1
}
