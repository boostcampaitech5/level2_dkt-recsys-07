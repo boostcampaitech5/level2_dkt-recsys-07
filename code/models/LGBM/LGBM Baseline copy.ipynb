{
 "cells": [
  {
   "attachments": {},
   "cell_type": "markdown",
   "metadata": {
    "id": "yt7sDAqHhfQp"
   },
   "source": [
    "# LGBM을 활용한 베이스라인"
   ]
  },
  {
   "cell_type": "code",
   "execution_count": 3,
   "metadata": {
    "ExecuteTime": {
     "end_time": "2021-05-24T09:49:29.375544Z",
     "start_time": "2021-05-24T09:49:28.999092Z"
    },
    "id": "Uq_TJqbdhfQu"
   },
   "outputs": [],
   "source": [
    "import pandas as pd\n",
    "import os\n",
    "import random\n",
    "from math import log10 as log\n",
    "import seaborn as sns\n",
    "import matplotlib.pyplot as plt\n",
    "import time\n",
    "from datetime import datetime\n",
    "import lightgbm as lgb\n",
    "from sklearn.metrics import roc_auc_score\n",
    "from sklearn.metrics import accuracy_score\n",
    "from sklearn.feature_selection import SelectKBest, chi2, f_classif\n",
    "from sklearn.decomposition import PCA\n",
    "import numpy as np"
   ]
  },
  {
   "attachments": {},
   "cell_type": "markdown",
   "metadata": {
    "id": "QZlm5HSmhfQv"
   },
   "source": [
    "## 1. 데이터 로딩"
   ]
  },
  {
   "cell_type": "code",
   "execution_count": 4,
   "metadata": {
    "ExecuteTime": {
     "end_time": "2021-05-24T09:49:29.678737Z",
     "start_time": "2021-05-24T09:49:29.376581Z"
    },
    "id": "s6qgJ8MLhfQw"
   },
   "outputs": [],
   "source": [
    "data_dir = '/opt/ml/input/data/'\n",
    "csv_file_path = os.path.join(data_dir, 'train_data.csv')\n",
    "df = pd.read_csv(csv_file_path) "
   ]
  },
  {
   "attachments": {},
   "cell_type": "markdown",
   "metadata": {
    "id": "p_oCGAgEhfQw"
   },
   "source": [
    "## 2. Feature Engineering"
   ]
  },
  {
   "cell_type": "code",
   "execution_count": 5,
   "metadata": {
    "ExecuteTime": {
     "end_time": "2021-05-24T09:49:29.682739Z",
     "start_time": "2021-05-24T09:49:28.979Z"
    },
    "id": "URNLoukChfQx"
   },
   "outputs": [],
   "source": [
    "def fe(df):\n",
    "    \n",
    "    #유저별 시퀀스를 고려하기 위해 아래와 같이 정렬\n",
    "    df.sort_values(by=['userID','Timestamp'], inplace=True)\n",
    "    \n",
    "    #유저들의 문제 풀이수, 정답 수, 정답률을 시간순으로 누적해서 계산\n",
    "    df['user_correct_answer'] = df.groupby('userID')['answerCode'].transform(lambda x: x.cumsum().shift(1))\n",
    "    df['user_total_answer'] = df.groupby('userID')['answerCode'].cumcount()\n",
    "    df['user_acc'] = df['user_correct_answer']/df['user_total_answer']\n",
    "\n",
    "    # testId와 KnowledgeTag의 전체 정답률은 한번에 계산\n",
    "    # 아래 데이터는 제출용 데이터셋에 대해서도 재사용\n",
    "    correct_t = df.groupby(['testId'])['answerCode'].agg(['mean', 'sum'])\n",
    "    correct_t.columns = [\"test_mean\", 'test_sum']\n",
    "    correct_k = df.groupby(['KnowledgeTag'])['answerCode'].agg(['mean', 'sum'])\n",
    "    correct_k.columns = [\"tag_mean\", 'tag_sum']\n",
    "\n",
    "    df = pd.merge(df, correct_t, on=['testId'], how=\"left\")\n",
    "    df = pd.merge(df, correct_k, on=['KnowledgeTag'], how=\"left\")\n",
    "    \n",
    "    \n",
    "    return df"
   ]
  },
  {
   "cell_type": "code",
   "execution_count": 6,
   "metadata": {},
   "outputs": [],
   "source": [
    "def convert_time2timestamp(t):\n",
    "    timestamp = time.mktime(t.timetuple())\n",
    "    return int(timestamp)\n",
    "\n",
    "def convert_string2datetime(s: str):\n",
    "    return datetime.strptime(s, \"%Y-%m-%d %H:%M:%S\")\n",
    "\n",
    "def time_stamp_fe(df):\n",
    "    ## 문자열로 인식되는 Timestamp의 타입을 datetime으로 변경하기. \n",
    "    print('Timestamp feature engineering start ..',end='')\n",
    "    df[\"Timestamp\"] = df[\"Timestamp\"].apply(convert_string2datetime) # string type to datetime type\n",
    "\n",
    "\n",
    "    ## 기본적인 시간정보 추가\n",
    "    df['year'] = df['Timestamp'].dt.year\n",
    "    df['month'] = df['Timestamp'].dt.month\n",
    "    df['day'] = df['Timestamp'].dt.day\n",
    "    df['hour'] = df['Timestamp'].dt.hour                                       # 시간대로 범주 추가 가능\n",
    "\n",
    "\n",
    "    ## 요일 추가\n",
    "    df['wday'] = df['Timestamp'].dt.weekday # Monday ~ Sunday => 0 ~ 6         # 주말로 범주 추가 가능\n",
    "    \n",
    "\n",
    "    ## 문제를 다시 풀어본 횟수 feature 'retry' 추가\n",
    "    test_group = df.groupby(['userID','testId']) # 같은 시험지끼리 묶어준다.\n",
    "    # retry_check = 0\n",
    "    retry_df = pd.DataFrame()\n",
    "    for key, group in test_group:\n",
    "        if len(group[group.assessmentItemID == group.assessmentItemID.iloc[0]]) >= 2:\n",
    "            retry_df = pd.concat([retry_df,group.groupby('assessmentItemID').cumcount()])\n",
    "            # retry_check += 1\n",
    "    retry_df.columns=['retry']\n",
    "    df = pd.merge(df, retry_df, left_index=True,right_index=True, how=\"left\")\n",
    "    df['retry'] = df['retry'].fillna(0) # retry의 결측치(한 번만 푼 문제들)을 0으로 바꿔준다.\n",
    "\n",
    "    \n",
    "    ## 문제 풀이 시간 추가\n",
    "    df['time'] = df['time'] = df.groupby(['userID','testId','retry'])['Timestamp'].diff().shift(-1) # 문제 풀이 시간\n",
    "    df['time'] = df['time'].fillna(df['time'].median())                        # Null값은 중앙값으로 채우기.\n",
    "    df['time'] = df['time'].apply(lambda x:x.total_seconds())                  # 년,월,일,날짜로 되어있는 값을 시간초로 변환\n",
    "    df['time'] = df['time'].apply(lambda x:300 if x > 300 else x)              # 최댓값을 300으로 변환.\n",
    "\n",
    "\n",
    "    ## 문제 풀이 시간 그룹 추가\n",
    "    time_ranges = [-0.001,5,18,27,37,80,300]\n",
    "    df['time_class'] = pd.cut(df['time'],time_ranges,labels=[0,1,2,3,4,5])\n",
    "    \n",
    "    ## 문제 풀이 시간 그룹별 통계량 추가\n",
    "    time_class_stat = df[df['userID'].shift(1) == df['userID']].groupby(['time_class'])['answerCode'].agg(['mean','sum','std'])\n",
    "    time_class_stat.columns = ['time_class_mean', 'time_class_sum', 'time_class_std']\n",
    "    df = pd.merge(df,time_class_stat,on=['time_class'],how='left')\n",
    "\n",
    "\n",
    "    ## 전체적인 시간정보를 나타내는 Timestamp는 int형으로 변환.\n",
    "    df[\"Timestamp\"] = df[\"Timestamp\"].apply(convert_time2timestamp) # datetime to timestamp\n",
    "    print(' Done.')\n",
    "\n",
    "    return df"
   ]
  },
  {
   "cell_type": "code",
   "execution_count": 7,
   "metadata": {},
   "outputs": [],
   "source": [
    "def test_fe(df):\n",
    "    print('TestID feature engineering start ..',end='')\n",
    "    ## 시험지의 평균 정답률, 정답 개수, 표준편차\n",
    "    correct_t = df[df['userID'].shift(1) == df['userID']].groupby(['testId'])['answerCode'].agg(['mean', 'sum','std'])\n",
    "    correct_t.columns = [\"test_ans_mean\", 'test_ans_sum','test_ans_std']\n",
    "    df = pd.merge(df, correct_t, on=['testId'], how=\"left\")\n",
    "\n",
    "    ## 시험지의 평균 풀이 시간, 표준편차\n",
    "    time_t = df.groupby(['testId'])['time'].agg(['mean', 'std'])\n",
    "    time_t.columns = [\"test_time_mean\", 'test_time_std']\n",
    "    df = pd.merge(df, time_t, on=['testId'], how=\"left\")\n",
    "\n",
    "\n",
    "    ## 시험지 대분류(test_type) 생성\n",
    "    df['test_type'] = df['testId'].apply(lambda x:int(x[2]))\n",
    "\n",
    "    ## 시험지 대분류별 정답률, 정답 개수, 표준편차\n",
    "    correct_type = df[df['userID'].shift(1) == df['userID']].groupby(['test_type'])['answerCode'].agg(['mean', 'sum','std'])\n",
    "    correct_type.columns = [\"t_type_ans_mean\", 't_type_ans_sum','t_type_ans_std']\n",
    "    df = pd.merge(df, correct_type, on=['test_type'], how=\"left\")\n",
    "\n",
    "    ## 시험지 대분류별 풀이시간, 표준편차\n",
    "    time_type = df.groupby(['test_type'])['time'].agg(['mean', 'std'])\n",
    "    time_type.columns = [\"t_type_time_mean\", 't_type_time_std']\n",
    "    df = pd.merge(df, time_type, on=['test_type'], how=\"left\")\n",
    "\n",
    "    ## 시험지 난이도\n",
    "    df['test_lvl'] = df['test_time_mean'] / df['test_ans_mean']\n",
    "    # 범주화\n",
    "    cat_num = 10\n",
    "    df['test_lvl_cat'] = pd.qcut(df['test_lvl'],cat_num,labels=[i for i in range(cat_num)])\n",
    "\n",
    "    ## 시험지 대분류별 난이도\n",
    "    # 난이도를 나타내는 척도는 임의로 풀이시간 평균 / 평균 정답률로 설정.\n",
    "    # 풀이시간이 길어지면 난이도가 높아지고, 정답률이 낮아지면 난이도가 높아진다.\n",
    "    df['test_type_lvl'] = df['t_type_time_mean'] / df['t_type_ans_mean']\n",
    "\n",
    "    # 범주화\n",
    "    type_cat_num = 3\n",
    "    df['test_type_lvl_cat'] = pd.qcut(df['test_type_lvl'],type_cat_num,labels=[i for i in range(type_cat_num)])\n",
    "\n",
    "    ## 시험지 노출 횟수\n",
    "    df['test_total_answer'] = df.groupby('testId')['answerCode'].cumcount()\n",
    "    print(' Done.')\n",
    "\n",
    "    return df"
   ]
  },
  {
   "cell_type": "code",
   "execution_count": 8,
   "metadata": {},
   "outputs": [],
   "source": [
    "def elo_fe(K,df):\n",
    "    ### ELO\n",
    "    problems = df.assessmentItemID.unique()\n",
    "    students = df.userID.unique()\n",
    "\n",
    "    # rate는 4000으로 시작.\n",
    "    problem_rate = {problem:4000 for problem in problems}\n",
    "    student_rate = {student:4000 for student in students}\n",
    "    elo_df = df[['userID', 'assessmentItemID', 'answerCode']]\n",
    "\n",
    "    # ELO Rating function\n",
    "    def win_rate(p_op, p_me): # 문제를 풀었을 때 얻는 rating 점수\n",
    "        return 1/(10**((p_op-p_me)/100)+1) \n",
    "\n",
    "    def changed_score(K, p_op, p_me, result):\n",
    "        '''\n",
    "        params\n",
    "            - K : Rating 변경 비율\n",
    "            - p_op : assessmentID (문제)\n",
    "            - p_me : UserID (사용자)\n",
    "            - result : answerCode (문제 정오답 여부)\n",
    "        variable\n",
    "            - game_percent : 풀이로부터 변경되는 Rating 값.\n",
    "            - next_op : 문제의 갱신된 Rating\n",
    "            - next_me : User의 갱신된 Rating\n",
    "        '''\n",
    "        game_pecent = win_rate(p_op, p_me)\n",
    "        next_op = p_op + K*(result - game_pecent)\n",
    "        next_me = p_me - K*(result + game_pecent)\n",
    "        return next_op, next_me\n",
    "\n",
    "    # 하나의 row는 하나의 경기인 셈.\n",
    "    for i in range(elo_df.shape[0]):\n",
    "        op, me, result = elo_df.iloc[i]\n",
    "        student_rate[op], problem_rate[me] = changed_score(K,student_rate[op], problem_rate[me], result)\n",
    "\n",
    "    problem_df = pd.DataFrame.from_dict(data=problem_rate, orient='index').rename(columns={0:'problem_rate'})\n",
    "    student_df = pd.DataFrame.from_dict(data=student_rate, orient='index').rename(columns={0:'student_rate'})\n",
    "\n",
    "    df['student_rate'] = df.userID.apply(lambda x:student_rate[x])\n",
    "    df['problem_rate'] = df.assessmentItemID.apply(lambda x:problem_rate[x])\n",
    "    df['log_student_rate'] = df.student_rate.apply(lambda x:log(x))\n",
    "\n",
    "    def rate(arr):  # 수능 등급 기준과 동일하게 0.5시그마 기준으로 1~9등급 나누기. 단, 실력이 좋으면 9등급.\n",
    "        m, std = arr.mean(), arr.std()\n",
    "        tarr = 9 - (((arr - m) / std + 1.75) * 2).astype(int)\n",
    "        return tarr.apply(lambda x : min(max(x,1), 9))\n",
    "\n",
    "    #학생별로 문제를 푼 수가 달라서 학생만 모아둔 df를 따로 관리하여 추가\n",
    "    problem_df['problem_grade'] = rate(problem_df['problem_rate'])\n",
    "    student_df['student_grade'] = rate(student_df['student_rate'])\n",
    "    df = pd.merge(df, problem_df, how='left', on='problem_rate')\n",
    "    df = pd.merge(df, student_df, how='left', on='student_rate')\n",
    "\n",
    "    return df"
   ]
  },
  {
   "cell_type": "code",
   "execution_count": 67,
   "metadata": {},
   "outputs": [],
   "source": [
    "def tag_fe(df):\n",
    "    print('TagID feature engineering start ..',end='')\n",
    "    ## tag의 평균 정답률, 정답 총합, 표준편차\n",
    "    correct_k = df[df['userID'].shift(1) == df['userID']].groupby(['KnowledgeTag'])['answerCode'].agg(['mean', 'sum','std'])\n",
    "    correct_k.columns = [\"tag_ans_mean\", 'tag_ans_sum','tag_ans_std']\n",
    "    df = pd.merge(df, correct_k, on=['KnowledgeTag'], how=\"left\")\n",
    "    \n",
    "    ## 태그의 평균 풀이 시간, 표준편차\n",
    "    time_k = df.groupby(['KnowledgeTag'])['time'].agg(['mean', 'std'])\n",
    "    time_k.columns = [\"tag_time_mean\", 'tag_time_std']\n",
    "    df = pd.merge(df, time_k, on=['KnowledgeTag'], how=\"left\")\n",
    "\n",
    "    ## 태그 난이도\n",
    "    df['tag_lvl'] = df['tag_time_mean'] / df['tag_ans_mean']\n",
    "\n",
    "    # 범주화\n",
    "    tag_cat_num = 10\n",
    "    df['tag_lvl_cat'] = pd.qcut(df['tag_lvl'],tag_cat_num,labels=[i for i in range(tag_cat_num)])\n",
    "\n",
    "    ## 태그 노출 횟수\n",
    "    df['tag_total_answer'] = df.groupby('KnowledgeTag')['answerCode'].cumcount()\n",
    "    print(' Done.')\n",
    "    return df"
   ]
  },
  {
   "cell_type": "code",
   "execution_count": 75,
   "metadata": {},
   "outputs": [],
   "source": [
    "def user_fe(df):\n",
    "    print('UserID feature engineering start ..',end='')\n",
    "    #유저들의 문제 풀이수, 정답 수, 정답률을 시간순으로 누적해서 계산\n",
    "    df['user_ans_1'] = df[df['userID'].shift(1) == df['userID']].groupby('userID')['answerCode'].transform(lambda x:x.cumsum().shift(1))\n",
    "    df['user_total_ans'] = df.groupby('userID')['answerCode'].cumcount()\n",
    "    df['user_acc'] = df['user_ans_1']/df['user_total_ans']\n",
    "\n",
    "    df['user_test_ans_count'] = df.groupby(['userID','testId'])['answerCode'].cumcount()\n",
    "    df['user_test_ans_1'] = df[df['userID'].shift(1) == df['userID']].groupby(['userID','testId'])['answerCode'].transform(lambda x:x.cumsum().shift(1))\n",
    "    df['user_test_acc'] = df['user_test_ans_1'] / df['user_test_ans_count']\n",
    "    df['user_test_lvl_mean'] = df.groupby(['userID'])['test_lvl'].cumsum() / (df.user_total_ans + 1)\n",
    "\n",
    "    df['user_tag_ans_count'] = df.groupby(['userID','KnowledgeTag'])['answerCode'].cumcount()\n",
    "    df['user_tag_ans_1'] = df[df['userID'].shift(1) == df['userID']].groupby(['userID','KnowledgeTag'])['answerCode'].transform(lambda x:x.cumsum().shift(1))\n",
    "    df['user_tag_acc'] = df['user_tag_ans_1'] / df['user_tag_ans_count']\n",
    "    df['user_tag_lvl_mean'] = df.groupby(['userID'])['tag_lvl'].cumsum() / (df.user_total_ans + 1)\n",
    "\n",
    "    # df['user_lvl'] = df.user_tag_lvl_mean + df.user_test_lvl_mean\n",
    "\n",
    "\n",
    "    df['item_ans_1'] = df[df['userID'].shift(1) == df['userID']].groupby('assessmentItemID')['answerCode'].transform(lambda x:x.cumsum().shift(1))\n",
    "    df['item_total_ans'] = df.groupby('assessmentItemID')['answerCode'].cumcount()\n",
    "    df['item_acc'] = df['item_ans_1']/df['item_total_ans']\n",
    "    \n",
    "    print(' Done.')\n",
    "    return df"
   ]
  },
  {
   "cell_type": "code",
   "execution_count": 9,
   "metadata": {},
   "outputs": [
    {
     "data": {
      "text/plain": [
       "Index(['userID', 'assessmentItemID', 'testId', 'answerCode', 'Timestamp',\n",
       "       'KnowledgeTag'],\n",
       "      dtype='object')"
      ]
     },
     "execution_count": 9,
     "metadata": {},
     "output_type": "execute_result"
    }
   ],
   "source": [
    "# df[df['userID'].shift(1) != df['userID']]\n",
    "df.columns"
   ]
  },
  {
   "cell_type": "code",
   "execution_count": 9,
   "metadata": {
    "ExecuteTime": {
     "end_time": "2021-05-24T09:49:29.683739Z",
     "start_time": "2021-05-24T09:49:28.981Z"
    },
    "id": "2vsUwksMhfQy",
    "scrolled": false
   },
   "outputs": [],
   "source": [
    "df = fe(df)"
   ]
  },
  {
   "cell_type": "code",
   "execution_count": 10,
   "metadata": {},
   "outputs": [
    {
     "data": {
      "text/plain": [
       "Index(['userID', 'assessmentItemID', 'testId', 'answerCode', 'Timestamp',\n",
       "       'KnowledgeTag'],\n",
       "      dtype='object')"
      ]
     },
     "execution_count": 10,
     "metadata": {},
     "output_type": "execute_result"
    }
   ],
   "source": [
    "df.columns"
   ]
  },
  {
   "cell_type": "code",
   "execution_count": 64,
   "metadata": {},
   "outputs": [
    {
     "name": "stdout",
     "output_type": "stream",
     "text": [
      "Timestamp feature engineering start .. Done.\n"
     ]
    }
   ],
   "source": [
    "tdf = time_stamp_fe(df)"
   ]
  },
  {
   "cell_type": "code",
   "execution_count": 11,
   "metadata": {},
   "outputs": [],
   "source": [
    "tdf = pd.read_csv('./time_train.csv')"
   ]
  },
  {
   "cell_type": "code",
   "execution_count": 12,
   "metadata": {},
   "outputs": [
    {
     "data": {
      "text/plain": [
       "Index(['userID', 'assessmentItemID', 'testId', 'answerCode', 'Timestamp',\n",
       "       'KnowledgeTag', 'user_correct_answer', 'user_total_answer', 'user_acc',\n",
       "       'test_mean', 'test_sum', 'tag_mean', 'tag_sum', 'year', 'month', 'day',\n",
       "       'hour', 'wday', 'retry', 'time', 'time_class', 'time_class_mean',\n",
       "       'time_class_sum', 'time_class_std'],\n",
       "      dtype='object')"
      ]
     },
     "execution_count": 12,
     "metadata": {},
     "output_type": "execute_result"
    }
   ],
   "source": [
    "tdf.columns"
   ]
  },
  {
   "cell_type": "code",
   "execution_count": 13,
   "metadata": {},
   "outputs": [],
   "source": [
    "te_df = elo_fe(1,tdf)"
   ]
  },
  {
   "cell_type": "code",
   "execution_count": 38,
   "metadata": {},
   "outputs": [
    {
     "data": {
      "text/plain": [
       "Index(['userID', 'assessmentItemID', 'testId', 'answerCode', 'Timestamp',\n",
       "       'KnowledgeTag', 'user_correct_answer', 'user_total_answer', 'user_acc',\n",
       "       'test_mean', 'test_sum', 'tag_mean', 'tag_sum', 'year', 'month', 'day',\n",
       "       'hour', 'wday', 'retry', 'time', 'time_class', 'time_class_mean',\n",
       "       'time_class_sum', 'time_class_std', 'student_rate', 'problem_rate',\n",
       "       'log_student_rate', 'problem_grade', 'student_grade'],\n",
       "      dtype='object')"
      ]
     },
     "execution_count": 38,
     "metadata": {},
     "output_type": "execute_result"
    }
   ],
   "source": [
    "te_df.columns"
   ]
  },
  {
   "cell_type": "code",
   "execution_count": 57,
   "metadata": {},
   "outputs": [
    {
     "name": "stdout",
     "output_type": "stream",
     "text": [
      "TestID feature engineering start .. Done.\n"
     ]
    }
   ],
   "source": [
    "tte_df = test_fe(te_df)"
   ]
  },
  {
   "cell_type": "code",
   "execution_count": 68,
   "metadata": {},
   "outputs": [
    {
     "name": "stdout",
     "output_type": "stream",
     "text": [
      "TagID feature engineering start .. Done.\n"
     ]
    }
   ],
   "source": [
    "ttte_df = tag_fe(tte_df)"
   ]
  },
  {
   "cell_type": "code",
   "execution_count": 69,
   "metadata": {},
   "outputs": [
    {
     "data": {
      "text/plain": [
       "Index(['userID', 'assessmentItemID', 'testId', 'answerCode', 'Timestamp',\n",
       "       'KnowledgeTag', 'user_correct_answer', 'user_total_answer', 'user_acc',\n",
       "       'test_mean', 'test_sum', 'tag_mean', 'tag_sum', 'year', 'month', 'day',\n",
       "       'hour', 'wday', 'retry', 'time', 'time_class', 'time_class_mean',\n",
       "       'time_class_sum', 'time_class_std', 'student_rate', 'problem_rate',\n",
       "       'log_student_rate', 'problem_grade', 'student_grade', 'test_ans_mean',\n",
       "       'test_ans_sum', 'test_ans_std', 'test_time_mean', 'test_time_std',\n",
       "       'test_type', 't_type_ans_mean', 't_type_ans_sum', 't_type_ans_std',\n",
       "       't_type_time_mean', 't_type_time_std', 'test_lvl', 'test_lvl_cat',\n",
       "       'test_type_lvl', 'test_type_lvl_cat', 'test_total_answer',\n",
       "       'tag_ans_mean', 'tag_ans_sum', 'tag_ans_std', 'tag_time_mean',\n",
       "       'tag_time_std', 'tag_lvl', 'tag_lvl_cat', 'tag_total_answer'],\n",
       "      dtype='object')"
      ]
     },
     "execution_count": 69,
     "metadata": {},
     "output_type": "execute_result"
    }
   ],
   "source": [
    "ttte_df.columns"
   ]
  },
  {
   "cell_type": "code",
   "execution_count": 58,
   "metadata": {},
   "outputs": [
    {
     "data": {
      "text/plain": [
       "Index(['userID', 'assessmentItemID', 'testId', 'answerCode', 'Timestamp',\n",
       "       'KnowledgeTag', 'user_correct_answer', 'user_total_answer', 'user_acc',\n",
       "       'test_mean', 'test_sum', 'tag_mean', 'tag_sum', 'year', 'month', 'day',\n",
       "       'hour', 'wday', 'retry', 'time', 'time_class', 'time_class_mean',\n",
       "       'time_class_sum', 'time_class_std', 'student_rate', 'problem_rate',\n",
       "       'log_student_rate', 'problem_grade', 'student_grade', 'test_ans_mean',\n",
       "       'test_ans_sum', 'test_ans_std', 'test_time_mean', 'test_time_std',\n",
       "       'test_type', 't_type_ans_mean', 't_type_ans_sum', 't_type_ans_std',\n",
       "       't_type_time_mean', 't_type_time_std', 'test_lvl', 'test_lvl_cat',\n",
       "       'test_type_lvl', 'test_type_lvl_cat', 'test_total_answer'],\n",
       "      dtype='object')"
      ]
     },
     "execution_count": 58,
     "metadata": {},
     "output_type": "execute_result"
    }
   ],
   "source": [
    "tte_df.columns"
   ]
  },
  {
   "cell_type": "code",
   "execution_count": 76,
   "metadata": {},
   "outputs": [
    {
     "name": "stdout",
     "output_type": "stream",
     "text": [
      "UserID feature engineering start .. Done.\n"
     ]
    }
   ],
   "source": [
    "uttte_df = user_fe(ttte_df)"
   ]
  },
  {
   "cell_type": "code",
   "execution_count": 77,
   "metadata": {},
   "outputs": [
    {
     "data": {
      "text/plain": [
       "Index(['userID', 'assessmentItemID', 'testId', 'answerCode', 'Timestamp',\n",
       "       'KnowledgeTag', 'user_correct_answer', 'user_total_answer', 'user_acc',\n",
       "       'test_mean', 'test_sum', 'tag_mean', 'tag_sum', 'year', 'month', 'day',\n",
       "       'hour', 'wday', 'retry', 'time', 'time_class', 'time_class_mean',\n",
       "       'time_class_sum', 'time_class_std', 'student_rate', 'problem_rate',\n",
       "       'log_student_rate', 'problem_grade', 'student_grade', 'test_ans_mean',\n",
       "       'test_ans_sum', 'test_ans_std', 'test_time_mean', 'test_time_std',\n",
       "       'test_type', 't_type_ans_mean', 't_type_ans_sum', 't_type_ans_std',\n",
       "       't_type_time_mean', 't_type_time_std', 'test_lvl', 'test_lvl_cat',\n",
       "       'test_type_lvl', 'test_type_lvl_cat', 'test_total_answer',\n",
       "       'tag_ans_mean', 'tag_ans_sum', 'tag_ans_std', 'tag_time_mean',\n",
       "       'tag_time_std', 'tag_lvl', 'tag_lvl_cat', 'tag_total_answer',\n",
       "       'user_ans_1', 'user_total_ans', 'user_test_ans_count',\n",
       "       'user_test_ans_1', 'user_test_acc', 'user_test_lvl_mean',\n",
       "       'user_tag_ans_count', 'user_tag_ans_1', 'user_tag_acc',\n",
       "       'user_tag_lvl_mean', 'item_ans_1', 'item_total_ans', 'item_acc'],\n",
       "      dtype='object')"
      ]
     },
     "execution_count": 77,
     "metadata": {},
     "output_type": "execute_result"
    }
   ],
   "source": [
    "uttte_df.columns"
   ]
  },
  {
   "attachments": {},
   "cell_type": "markdown",
   "metadata": {
    "id": "5VZzei3DhfQy"
   },
   "source": [
    "## 3. Train/Test 데이터 셋 분리"
   ]
  },
  {
   "cell_type": "code",
   "execution_count": 39,
   "metadata": {
    "ExecuteTime": {
     "end_time": "2021-05-24T09:49:29.684739Z",
     "start_time": "2021-05-24T09:49:28.982Z"
    },
    "id": "YOPWK7ckhfQz"
   },
   "outputs": [],
   "source": [
    "# train과 test 데이터셋은 사용자 별로 묶어서 분리를 해주어야함\n",
    "def custom_train_test_split(df, ratio=0.7, split=True):\n",
    "    random.seed(42)\n",
    "    users = list(zip(df['userID'].value_counts().index, df['userID'].value_counts()))\n",
    "    random.shuffle(users)\n",
    "    \n",
    "    max_train_data_len = ratio*len(df)\n",
    "    sum_of_train_data = 0\n",
    "    user_ids =[]\n",
    "\n",
    "    for user_id, count in users:\n",
    "        sum_of_train_data += count\n",
    "        if max_train_data_len < sum_of_train_data:\n",
    "            break\n",
    "        user_ids.append(user_id)\n",
    "\n",
    "\n",
    "    train = df[df['userID'].isin(user_ids)]\n",
    "    test = df[df['userID'].isin(user_ids) == False]\n",
    "\n",
    "    #test데이터셋은 각 유저의 마지막 interaction만 추출\n",
    "    test = test[test['userID'] != test['userID'].shift(-1)]\n",
    "    return train, test"
   ]
  },
  {
   "cell_type": "code",
   "execution_count": 91,
   "metadata": {
    "ExecuteTime": {
     "end_time": "2021-05-24T09:49:29.686739Z",
     "start_time": "2021-05-24T09:49:28.984Z"
    },
    "id": "i3HzdoybhfQ0"
   },
   "outputs": [],
   "source": [
    "# 유저별 분리\n",
    "train, test = custom_train_test_split(uttte_df)\n",
    "\n",
    "# 사용할 Feature 설정\n",
    "FEATS = [\n",
    "         'user_acc','KnowledgeTag','test_mean', 'test_sum', 'tag_mean', 'time', 'tag_sum', 'user_correct_answer', 'Timestamp', 'user_total_answer',\n",
    "         'hour', 'day', 'wday', 'time_class_sum', 'time_class_mean','retry', 'time_class_std','month', \n",
    "         'student_rate', 'problem_rate', 'log_student_rate', 'problem_grade', 'student_grade',\n",
    "         'test_ans_mean',\n",
    "         'test_ans_sum', \n",
    "         'test_ans_std', \n",
    "         'test_time_mean', \n",
    "         'test_time_std',\n",
    "         'test_type', 't_type_ans_mean', 't_type_ans_sum', 't_type_ans_std',\n",
    "         't_type_time_mean', 't_type_time_std', 'test_lvl', 'test_lvl_cat',\n",
    "         'test_type_lvl', 'test_type_lvl_cat', 'test_total_answer',\n",
    "         'tag_ans_std', 'tag_time_mean',\n",
    "       'tag_time_std', 'tag_lvl', 'tag_lvl_cat', 'tag_total_answer',\n",
    "       'user_ans_1', 'user_total_ans', 'user_test_ans_count',\n",
    "       'user_test_ans_1', 'user_test_acc', 'user_test_lvl_mean',\n",
    "       'user_tag_ans_count', 'user_tag_ans_1', 'user_tag_acc',\n",
    "       'user_tag_lvl_mean', 'item_ans_1', 'item_total_ans', 'item_acc'\n",
    "       ]\n",
    "\n",
    "\n",
    "# X, y 값 분리\n",
    "y_train = train['answerCode']\n",
    "train = train.drop(['answerCode'], axis=1)\n",
    "\n",
    "y_test = test['answerCode']\n",
    "test = test.drop(['answerCode'], axis=1)"
   ]
  },
  {
   "cell_type": "code",
   "execution_count": 127,
   "metadata": {},
   "outputs": [
    {
     "name": "stderr",
     "output_type": "stream",
     "text": [
      "/opt/conda/envs/gcn/lib/python3.10/site-packages/sklearn/feature_selection/_univariate_selection.py:112: UserWarning: Features [ 5 13] are constant.\n",
      "  warnings.warn(\"Features %s are constant.\" % constant_features_idx, UserWarning)\n",
      "/opt/conda/envs/gcn/lib/python3.10/site-packages/sklearn/feature_selection/_univariate_selection.py:113: RuntimeWarning: invalid value encountered in divide\n",
      "  f = msb / msw\n"
     ]
    },
    {
     "data": {
      "text/plain": [
       "((1586157, 30), (2007, 30))"
      ]
     },
     "execution_count": 127,
     "metadata": {},
     "output_type": "execute_result"
    }
   ],
   "source": [
    "selector = SelectKBest(score_func=f_classif, k=30)\n",
    "train[FEATS] = train[FEATS].fillna(0)\n",
    "test[FEATS] = test[FEATS].fillna(0)\n",
    "train_selected = selector.fit_transform(train[FEATS],y_train)\n",
    "test_selected = selector.fit_transform(test[FEATS],y_test)\n",
    "\n",
    "train_selected.shape,test_selected.shape"
   ]
  },
  {
   "cell_type": "code",
   "execution_count": 128,
   "metadata": {
    "ExecuteTime": {
     "end_time": "2021-05-24T09:49:29.688736Z",
     "start_time": "2021-05-24T09:49:28.986Z"
    },
    "id": "o59GhDdVhfQ1"
   },
   "outputs": [],
   "source": [
    "# lgb_train = lgb.Dataset(train[FEATS], y_train)\n",
    "# lgb_test = lgb.Dataset(test[FEATS], y_test)\n",
    "lgb_train = lgb.Dataset(train_selected, y_train)\n",
    "lgb_test = lgb.Dataset(test_selected, y_test)"
   ]
  },
  {
   "attachments": {},
   "cell_type": "markdown",
   "metadata": {
    "id": "KiHss_BBhfQ2"
   },
   "source": [
    "## 4. 훈련 및 검증"
   ]
  },
  {
   "cell_type": "code",
   "execution_count": 129,
   "metadata": {},
   "outputs": [],
   "source": [
    "params = {\n",
    "        #   'bagging_freq': 1, \n",
    "        #   'verbosity': -1, \n",
    "          'num_iterations': 2000,\n",
    "          # 'feature_pre_filter': False,\n",
    "          'objective': 'binary', \n",
    "          # 'metric': 'binary_logloss',\n",
    "        #   'boosting': 'gbdt',\n",
    "          # 'bagging_fraction': 0.7, # 정확도 조금 올라감\n",
    "          # 'feature_fraction': 0.5, # 올리니 떨어짐\n",
    "          # 'lambda_l1': 3,\n",
    "        #   'lambda_l2': 5,\n",
    "          'learning_rate': 0.02, # 낮추니 떨어짐\n",
    "          # 'max_depth': 8, # 추가하니 떨어짐\n",
    "          # 'min_child_samples': 8,\n",
    "          # 'num_leaves': 150, # 추가하니 떨어짐\n",
    "          }\n",
    "# params={'objective':'binary'}"
   ]
  },
  {
   "cell_type": "code",
   "execution_count": 130,
   "metadata": {
    "ExecuteTime": {
     "end_time": "2021-05-24T09:49:29.689738Z",
     "start_time": "2021-05-24T09:49:28.988Z"
    },
    "id": "-6FZfjA_hfQ2"
   },
   "outputs": [
    {
     "name": "stderr",
     "output_type": "stream",
     "text": [
      "/opt/conda/envs/gcn/lib/python3.10/site-packages/lightgbm/engine.py:177: UserWarning: Found `num_iterations` in params. Will use it instead of argument\n",
      "  _log_warning(f\"Found `{alias}` in params. Will use it instead of argument\")\n",
      "/opt/conda/envs/gcn/lib/python3.10/site-packages/lightgbm/engine.py:181: UserWarning: 'early_stopping_rounds' argument is deprecated and will be removed in a future release of LightGBM. Pass 'early_stopping()' callback via 'callbacks' argument instead.\n",
      "  _log_warning(\"'early_stopping_rounds' argument is deprecated and will be removed in a future release of LightGBM. \"\n",
      "/opt/conda/envs/gcn/lib/python3.10/site-packages/lightgbm/engine.py:239: UserWarning: 'verbose_eval' argument is deprecated and will be removed in a future release of LightGBM. Pass 'log_evaluation()' callback via 'callbacks' argument instead.\n",
      "  _log_warning(\"'verbose_eval' argument is deprecated and will be removed in a future release of LightGBM. \"\n"
     ]
    },
    {
     "name": "stdout",
     "output_type": "stream",
     "text": [
      "[LightGBM] [Info] Number of positive: 1039565, number of negative: 546592\n",
      "[LightGBM] [Warning] Auto-choosing row-wise multi-threading, the overhead of testing was 0.026864 seconds.\n",
      "You can set `force_row_wise=true` to remove the overhead.\n",
      "And if memory is not enough, you can set `force_col_wise=true`.\n",
      "[LightGBM] [Info] Total Bins 4164\n",
      "[LightGBM] [Info] Number of data points in the train set: 1586157, number of used features: 30\n",
      "[LightGBM] [Info] [binary:BoostFromScore]: pavg=0.655399 -> initscore=0.642855\n",
      "[LightGBM] [Info] Start training from score 0.642855\n",
      "Training until validation scores don't improve for 100 rounds\n",
      "[100]\ttraining's binary_logloss: 0.482082\tvalid_1's binary_logloss: 0.625107\n",
      "[200]\ttraining's binary_logloss: 0.466849\tvalid_1's binary_logloss: 0.619036\n",
      "[300]\ttraining's binary_logloss: 0.462422\tvalid_1's binary_logloss: 0.617152\n",
      "[400]\ttraining's binary_logloss: 0.460235\tvalid_1's binary_logloss: 0.617459\n",
      "Early stopping, best iteration is:\n",
      "[357]\ttraining's binary_logloss: 0.461024\tvalid_1's binary_logloss: 0.615133\n",
      "VALID AUC : 0.7481589147286822 ACC : 0.6591928251121076\n",
      "\n"
     ]
    }
   ],
   "source": [
    "model = lgb.train(\n",
    "    params, \n",
    "    lgb_train,\n",
    "    valid_sets=[lgb_train, lgb_test],\n",
    "    verbose_eval=100,\n",
    "    num_boost_round=500,\n",
    "    early_stopping_rounds=100\n",
    ")\n",
    "\n",
    "# preds = model.predict(test[FEATS])\n",
    "preds = model.predict(test_selected)\n",
    "acc = accuracy_score(y_test, np.where(preds >= 0.5, 1, 0))\n",
    "auc = roc_auc_score(y_test, preds)\n",
    "\n",
    "print(f'VALID AUC : {auc} ACC : {acc}\\n')"
   ]
  },
  {
   "cell_type": "code",
   "execution_count": 87,
   "metadata": {
    "ExecuteTime": {
     "end_time": "2021-05-24T09:49:29.690738Z",
     "start_time": "2021-05-24T09:49:28.989Z"
    },
    "id": "CKRjM0rxhfQ2"
   },
   "outputs": [
    {
     "data": {
      "image/png": "[encoded data removed]",
      "text/plain": [
       "<Figure size 640x480 with 1 Axes>"
      ]
     },
     "metadata": {},
     "output_type": "display_data"
    }
   ],
   "source": [
    "# INSTALL MATPLOTLIB IN ADVANCE\n",
    "_ = lgb.plot_importance(model)"
   ]
  },
  {
   "attachments": {},
   "cell_type": "markdown",
   "metadata": {
    "id": "8Bsff1ZVhfQ3"
   },
   "source": [
    "## 5. Inference"
   ]
  },
  {
   "cell_type": "code",
   "execution_count": 111,
   "metadata": {
    "ExecuteTime": {
     "end_time": "2021-05-24T09:49:29.691738Z",
     "start_time": "2021-05-24T09:49:28.992Z"
    },
    "id": "N6YEFm8IhfQ3"
   },
   "outputs": [
    {
     "name": "stdout",
     "output_type": "stream",
     "text": [
      "Timestamp feature engineering start .. Done.\n",
      "TestID feature engineering start .."
     ]
    },
    {
     "name": "stderr",
     "output_type": "stream",
     "text": [
      "/opt/conda/envs/gcn/lib/python3.10/site-packages/numpy/lib/function_base.py:4573: RuntimeWarning: invalid value encountered in subtract\n",
      "  diff_b_a = subtract(b, a)\n"
     ]
    },
    {
     "name": "stdout",
     "output_type": "stream",
     "text": [
      " Done.\n",
      "TagID feature engineering start .. Done.\n",
      "UserID feature engineering start .. Done.\n"
     ]
    }
   ],
   "source": [
    "# LOAD TESTDATA\n",
    "test_csv_file_path = os.path.join(data_dir, 'test_data.csv')\n",
    "test_df = pd.read_csv(test_csv_file_path)\n",
    "\n",
    "# FEATURE ENGINEERING\n",
    "test_df = fe(test_df)\n",
    "test_df = time_stamp_fe(test_df)\n",
    "test_df = elo_fe(1,test_df)\n",
    "test_df = test_fe(test_df)\n",
    "test_df = tag_fe(test_df)\n",
    "test_df = user_fe(test_df)\n",
    "\n",
    "# LEAVE LAST INTERACTION ONLY\n",
    "test_df = test_df[test_df['userID'] != test_df['userID'].shift(-1)]\n",
    "\n",
    "# DROP ANSWERCODE\n",
    "test_df = test_df.drop(['answerCode'], axis=1)"
   ]
  },
  {
   "cell_type": "code",
   "execution_count": 103,
   "metadata": {},
   "outputs": [],
   "source": [
    "# test_df = pd.read_csv('./train+test_fe_all.csv')"
   ]
  },
  {
   "cell_type": "code",
   "execution_count": 107,
   "metadata": {},
   "outputs": [
    {
     "data": {
      "text/plain": [
       "7442"
      ]
     },
     "execution_count": 107,
     "metadata": {},
     "output_type": "execute_result"
    }
   ],
   "source": [
    "len(test_df)"
   ]
  },
  {
   "cell_type": "code",
   "execution_count": 131,
   "metadata": {
    "ExecuteTime": {
     "end_time": "2021-05-24T09:49:29.692739Z",
     "start_time": "2021-05-24T09:49:28.993Z"
    },
    "id": "XnwXJs_shfQ4"
   },
   "outputs": [
    {
     "name": "stderr",
     "output_type": "stream",
     "text": [
      "[LightGBM] [Fatal] The number of features in data (58) is not the same as it was in training data (30).\n",
      "You can set ``predict_disable_shape_check=true`` to discard this error, but please be aware what you are doing.\n"
     ]
    },
    {
     "ename": "LightGBMError",
     "evalue": "The number of features in data (58) is not the same as it was in training data (30).\nYou can set ``predict_disable_shape_check=true`` to discard this error, but please be aware what you are doing.",
     "output_type": "error",
     "traceback": [
      "\u001b[0;31m---------------------------------------------------------------------------\u001b[0m",
      "\u001b[0;31mLightGBMError\u001b[0m                             Traceback (most recent call last)",
      "\u001b[1;32m/opt/ml/input/code/models/LGBM/LGBM Baseline copy.ipynb Cell 39\u001b[0m in \u001b[0;36m<cell line: 2>\u001b[0;34m()\u001b[0m\n\u001b[1;32m      <a href='vscode-notebook-cell://ssh-remote%2B101.101.216.159/opt/ml/input/code/models/LGBM/LGBM%20Baseline%20copy.ipynb#X41sdnNjb2RlLXJlbW90ZQ%3D%3D?line=0'>1</a>\u001b[0m \u001b[39m# MAKE PREDICTION\u001b[39;00m\n\u001b[0;32m----> <a href='vscode-notebook-cell://ssh-remote%2B101.101.216.159/opt/ml/input/code/models/LGBM/LGBM%20Baseline%20copy.ipynb#X41sdnNjb2RlLXJlbW90ZQ%3D%3D?line=1'>2</a>\u001b[0m total_preds \u001b[39m=\u001b[39m model\u001b[39m.\u001b[39;49mpredict(test_df[FEATS])\n\u001b[1;32m      <a href='vscode-notebook-cell://ssh-remote%2B101.101.216.159/opt/ml/input/code/models/LGBM/LGBM%20Baseline%20copy.ipynb#X41sdnNjb2RlLXJlbW90ZQ%3D%3D?line=2'>3</a>\u001b[0m total_preds\u001b[39m.\u001b[39mmean()\n",
      "File \u001b[0;32m/opt/conda/envs/gcn/lib/python3.10/site-packages/lightgbm/basic.py:3538\u001b[0m, in \u001b[0;36mBooster.predict\u001b[0;34m(self, data, start_iteration, num_iteration, raw_score, pred_leaf, pred_contrib, data_has_header, is_reshape, **kwargs)\u001b[0m\n\u001b[1;32m   3536\u001b[0m     \u001b[39melse\u001b[39;00m:\n\u001b[1;32m   3537\u001b[0m         num_iteration \u001b[39m=\u001b[39m \u001b[39m-\u001b[39m\u001b[39m1\u001b[39m\n\u001b[0;32m-> 3538\u001b[0m \u001b[39mreturn\u001b[39;00m predictor\u001b[39m.\u001b[39;49mpredict(data, start_iteration, num_iteration,\n\u001b[1;32m   3539\u001b[0m                          raw_score, pred_leaf, pred_contrib,\n\u001b[1;32m   3540\u001b[0m                          data_has_header, is_reshape)\n",
      "File \u001b[0;32m/opt/conda/envs/gcn/lib/python3.10/site-packages/lightgbm/basic.py:848\u001b[0m, in \u001b[0;36m_InnerPredictor.predict\u001b[0;34m(self, data, start_iteration, num_iteration, raw_score, pred_leaf, pred_contrib, data_has_header, is_reshape)\u001b[0m\n\u001b[1;32m    846\u001b[0m     preds, nrow \u001b[39m=\u001b[39m \u001b[39mself\u001b[39m\u001b[39m.\u001b[39m__pred_for_csc(data, start_iteration, num_iteration, predict_type)\n\u001b[1;32m    847\u001b[0m \u001b[39melif\u001b[39;00m \u001b[39misinstance\u001b[39m(data, np\u001b[39m.\u001b[39mndarray):\n\u001b[0;32m--> 848\u001b[0m     preds, nrow \u001b[39m=\u001b[39m \u001b[39mself\u001b[39;49m\u001b[39m.\u001b[39;49m__pred_for_np2d(data, start_iteration, num_iteration, predict_type)\n\u001b[1;32m    849\u001b[0m \u001b[39melif\u001b[39;00m \u001b[39misinstance\u001b[39m(data, \u001b[39mlist\u001b[39m):\n\u001b[1;32m    850\u001b[0m     \u001b[39mtry\u001b[39;00m:\n",
      "File \u001b[0;32m/opt/conda/envs/gcn/lib/python3.10/site-packages/lightgbm/basic.py:938\u001b[0m, in \u001b[0;36m_InnerPredictor.__pred_for_np2d\u001b[0;34m(self, mat, start_iteration, num_iteration, predict_type)\u001b[0m\n\u001b[1;32m    936\u001b[0m     \u001b[39mreturn\u001b[39;00m preds, nrow\n\u001b[1;32m    937\u001b[0m \u001b[39melse\u001b[39;00m:\n\u001b[0;32m--> 938\u001b[0m     \u001b[39mreturn\u001b[39;00m inner_predict(mat, start_iteration, num_iteration, predict_type)\n",
      "File \u001b[0;32m/opt/conda/envs/gcn/lib/python3.10/site-packages/lightgbm/basic.py:908\u001b[0m, in \u001b[0;36m_InnerPredictor.__pred_for_np2d.<locals>.inner_predict\u001b[0;34m(mat, start_iteration, num_iteration, predict_type, preds)\u001b[0m\n\u001b[1;32m    906\u001b[0m     \u001b[39mraise\u001b[39;00m \u001b[39mValueError\u001b[39;00m(\u001b[39m\"\u001b[39m\u001b[39mWrong length of pre-allocated predict array\u001b[39m\u001b[39m\"\u001b[39m)\n\u001b[1;32m    907\u001b[0m out_num_preds \u001b[39m=\u001b[39m ctypes\u001b[39m.\u001b[39mc_int64(\u001b[39m0\u001b[39m)\n\u001b[0;32m--> 908\u001b[0m _safe_call(_LIB\u001b[39m.\u001b[39;49mLGBM_BoosterPredictForMat(\n\u001b[1;32m    909\u001b[0m     \u001b[39mself\u001b[39;49m\u001b[39m.\u001b[39;49mhandle,\n\u001b[1;32m    910\u001b[0m     ptr_data,\n\u001b[1;32m    911\u001b[0m     ctypes\u001b[39m.\u001b[39;49mc_int(type_ptr_data),\n\u001b[1;32m    912\u001b[0m     ctypes\u001b[39m.\u001b[39;49mc_int32(mat\u001b[39m.\u001b[39;49mshape[\u001b[39m0\u001b[39;49m]),\n\u001b[1;32m    913\u001b[0m     ctypes\u001b[39m.\u001b[39;49mc_int32(mat\u001b[39m.\u001b[39;49mshape[\u001b[39m1\u001b[39;49m]),\n\u001b[1;32m    914\u001b[0m     ctypes\u001b[39m.\u001b[39;49mc_int(C_API_IS_ROW_MAJOR),\n\u001b[1;32m    915\u001b[0m     ctypes\u001b[39m.\u001b[39;49mc_int(predict_type),\n\u001b[1;32m    916\u001b[0m     ctypes\u001b[39m.\u001b[39;49mc_int(start_iteration),\n\u001b[1;32m    917\u001b[0m     ctypes\u001b[39m.\u001b[39;49mc_int(num_iteration),\n\u001b[1;32m    918\u001b[0m     c_str(\u001b[39mself\u001b[39;49m\u001b[39m.\u001b[39;49mpred_parameter),\n\u001b[1;32m    919\u001b[0m     ctypes\u001b[39m.\u001b[39;49mbyref(out_num_preds),\n\u001b[1;32m    920\u001b[0m     preds\u001b[39m.\u001b[39;49mctypes\u001b[39m.\u001b[39;49mdata_as(ctypes\u001b[39m.\u001b[39;49mPOINTER(ctypes\u001b[39m.\u001b[39;49mc_double))))\n\u001b[1;32m    921\u001b[0m \u001b[39mif\u001b[39;00m n_preds \u001b[39m!=\u001b[39m out_num_preds\u001b[39m.\u001b[39mvalue:\n\u001b[1;32m    922\u001b[0m     \u001b[39mraise\u001b[39;00m \u001b[39mValueError\u001b[39;00m(\u001b[39m\"\u001b[39m\u001b[39mWrong length for predict results\u001b[39m\u001b[39m\"\u001b[39m)\n",
      "File \u001b[0;32m/opt/conda/envs/gcn/lib/python3.10/site-packages/lightgbm/basic.py:125\u001b[0m, in \u001b[0;36m_safe_call\u001b[0;34m(ret)\u001b[0m\n\u001b[1;32m    117\u001b[0m \u001b[39m\u001b[39m\u001b[39m\"\"\"Check the return value from C API call.\u001b[39;00m\n\u001b[1;32m    118\u001b[0m \n\u001b[1;32m    119\u001b[0m \u001b[39mParameters\u001b[39;00m\n\u001b[0;32m   (...)\u001b[0m\n\u001b[1;32m    122\u001b[0m \u001b[39m    The return value from C API calls.\u001b[39;00m\n\u001b[1;32m    123\u001b[0m \u001b[39m\"\"\"\u001b[39;00m\n\u001b[1;32m    124\u001b[0m \u001b[39mif\u001b[39;00m ret \u001b[39m!=\u001b[39m \u001b[39m0\u001b[39m:\n\u001b[0;32m--> 125\u001b[0m     \u001b[39mraise\u001b[39;00m LightGBMError(_LIB\u001b[39m.\u001b[39mLGBM_GetLastError()\u001b[39m.\u001b[39mdecode(\u001b[39m'\u001b[39m\u001b[39mutf-8\u001b[39m\u001b[39m'\u001b[39m))\n",
      "\u001b[0;31mLightGBMError\u001b[0m: The number of features in data (58) is not the same as it was in training data (30).\nYou can set ``predict_disable_shape_check=true`` to discard this error, but please be aware what you are doing."
     ]
    }
   ],
   "source": [
    "# MAKE PREDICTION\n",
    "total_preds = model.predict(test_df[FEATS])\n",
    "total_preds.mean()"
   ]
  },
  {
   "cell_type": "code",
   "execution_count": 117,
   "metadata": {
    "ExecuteTime": {
     "end_time": "2021-05-24T09:49:29.694736Z",
     "start_time": "2021-05-24T09:49:28.995Z"
    },
    "id": "f8PvohzwhfQ4"
   },
   "outputs": [
    {
     "name": "stdout",
     "output_type": "stream",
     "text": [
      "writing prediction : output/20230522_144746_LGBM_0.8056_0.7359.csv\n"
     ]
    }
   ],
   "source": [
    "# SAVE OUTPUT\n",
    "output_dir = 'output/'\n",
    "now = time.localtime()\n",
    "now_date = time.strftime('%Y%m%d', now)\n",
    "now_hour = time.strftime('%X', now)\n",
    "save_time = now_date + '_' + now_hour.replace(':', '')\n",
    "\n",
    "fname = '{}_{}_{}_{}.csv'.format(save_time,\"LGBM\",auc.round(4),acc.round(4))\n",
    "write_path = os.path.join(output_dir, fname)\n",
    "if not os.path.exists(output_dir):\n",
    "    os.makedirs(output_dir)\n",
    "with open(write_path, 'w', encoding='utf8') as w:\n",
    "    print(\"writing prediction : {}\".format(write_path))\n",
    "    w.write(\"id,prediction\\n\")\n",
    "    for id, p in enumerate(total_preds):\n",
    "        w.write('{},{}\\n'.format(id,p))"
   ]
  }
 ],
 "metadata": {
  "colab": {
   "provenance": []
  },
  "kernelspec": {
   "display_name": "Python 3 (ipykernel)",
   "language": "python",
   "name": "python3"
  },
  "language_info": {
   "codemirror_mode": {
    "name": "ipython",
    "version": 3
   },
   "file_extension": ".py",
   "mimetype": "text/x-python",
   "name": "python",
   "nbconvert_exporter": "python",
   "pygments_lexer": "ipython3",
   "version": "3.10.11"
  },
  "toc": {
   "base_numbering": 1,
   "nav_menu": {},
   "number_sections": false,
   "sideBar": true,
   "skip_h1_title": false,
   "title_cell": "Table of Contents",
   "title_sidebar": "Contents",
   "toc_cell": false,
   "toc_position": {},
   "toc_section_display": true,
   "toc_window_display": true
  }
 },
 "nbformat": 4,
 "nbformat_minor": 1
}
