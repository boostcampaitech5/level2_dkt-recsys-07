{
 "cells": [
  {
   "cell_type": "code",
   "execution_count": 2,
   "metadata": {},
   "outputs": [],
   "source": [
    "import os\n",
    "import numpy as np\n",
    "import pandas as pd\n",
    "import matplotlib as mpl\n",
    "import matplotlib.pyplot as plt\n",
    "import seaborn as sns"
   ]
  },
  {
   "cell_type": "code",
   "execution_count": 27,
   "metadata": {},
   "outputs": [
    {
     "name": "stdout",
     "output_type": "stream",
     "text": [
      "10 ['20230523_132805_lstmattn.csv', '20230523_133156_lstmattn.csv', '20230523_134214_lstmattn.csv', '20230523_132622_lstmattn.csv', '20230523_133338_lstmattn.csv', '20230523_132138_lstmattn.csv', '20230523_133522_lstmattn.csv', '20230523_133754_lstmattn.csv', '20230523_132950_lstmattn.csv', '20230523_134432_lstmattn.csv']\n",
      "0 0.4641373327041986\n",
      "1 0.4658955148551413\n",
      "2 0.4954362052082214\n",
      "3 0.4705751430323368\n",
      "4 0.4929310676631748\n",
      "5 0.499062280691359\n",
      "6 0.49589826820558436\n",
      "7 0.48390397348351055\n",
      "8 0.48946322341479603\n",
      "9 0.5111885624386932\n"
     ]
    }
   ],
   "source": [
    "file_list = os.listdir('./outputs/')\n",
    "files = [pd.read_csv('./outputs/' + f) for f in file_list]\n",
    "print(len(files), file_list)\n",
    "# fig, ax = plt.subplots(figsize=(12, 7))\n",
    "for idx in range(len(files)):\n",
    "    print(idx, files[idx]['prediction'].mean())\n",
    "#     files[idx]['prediction'] = files[idx]['prediction'].apply(lambda x:round(x))\n",
    "#     files[idx]['fname'] = file_list[idx]\n",
    "# df = pd.concat(files,axis=0,ignore_index=True)\n",
    "# sns.histplot(data=df,x='id',element='poly',hue='prediction',multiple='stack')\n"
   ]
  },
  {
   "cell_type": "code",
   "execution_count": 33,
   "metadata": {},
   "outputs": [
    {
     "name": "stdout",
     "output_type": "stream",
     "text": [
      "10 ['20230523_132805_lstmattn.csv', '20230523_133156_lstmattn.csv', '20230523_134214_lstmattn.csv', '20230523_132622_lstmattn.csv', '20230523_133338_lstmattn.csv', '20230523_132138_lstmattn.csv', '20230523_133522_lstmattn.csv', '20230523_133754_lstmattn.csv', '20230523_132950_lstmattn.csv', '20230523_134432_lstmattn.csv']\n"
     ]
    }
   ],
   "source": [
    "print(len(files), file_list)\n",
    "output = pd.DataFrame()\n",
    "for idx in range(len(files)):\n",
    "    pred = files[idx]['prediction']\n",
    "    output = pd.concat([output,pred],axis=1)\n",
    "result = pd.DataFrame(output.mean(axis=1)).reset_index()\n",
    "result.columns = ['id','prediction']\n",
    "result.to_csv('./ensemble_output.csv',index=False)"
   ]
  }
 ],
 "metadata": {
  "kernelspec": {
   "display_name": "base",
   "language": "python",
   "name": "python3"
  },
  "language_info": {
   "codemirror_mode": {
    "name": "ipython",
    "version": 3
   },
   "file_extension": ".py",
   "mimetype": "text/x-python",
   "name": "python",
   "nbconvert_exporter": "python",
   "pygments_lexer": "ipython3",
   "version": "3.10.11"
  },
  "orig_nbformat": 4
 },
 "nbformat": 4,
 "nbformat_minor": 2
}
